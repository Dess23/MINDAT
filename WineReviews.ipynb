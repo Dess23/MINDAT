{
 "cells": [
  {
   "cell_type": "code",
   "execution_count": 1,
   "metadata": {},
   "outputs": [
    {
     "data": {
      "text/html": [
       "<div>\n",
       "<style scoped>\n",
       "    .dataframe tbody tr th:only-of-type {\n",
       "        vertical-align: middle;\n",
       "    }\n",
       "\n",
       "    .dataframe tbody tr th {\n",
       "        vertical-align: top;\n",
       "    }\n",
       "\n",
       "    .dataframe thead th {\n",
       "        text-align: right;\n",
       "    }\n",
       "</style>\n",
       "<table border=\"1\" class=\"dataframe\">\n",
       "  <thead>\n",
       "    <tr style=\"text-align: right;\">\n",
       "      <th></th>\n",
       "      <th>Unnamed: 0</th>\n",
       "      <th>country</th>\n",
       "      <th>description</th>\n",
       "      <th>designation</th>\n",
       "      <th>points</th>\n",
       "      <th>price</th>\n",
       "      <th>province</th>\n",
       "      <th>region_1</th>\n",
       "      <th>region_2</th>\n",
       "      <th>variety</th>\n",
       "      <th>winery</th>\n",
       "    </tr>\n",
       "  </thead>\n",
       "  <tbody>\n",
       "    <tr>\n",
       "      <td>0</td>\n",
       "      <td>0</td>\n",
       "      <td>US</td>\n",
       "      <td>This tremendous 100% varietal wine hails from ...</td>\n",
       "      <td>Martha's Vineyard</td>\n",
       "      <td>96</td>\n",
       "      <td>235.0</td>\n",
       "      <td>California</td>\n",
       "      <td>Napa Valley</td>\n",
       "      <td>Napa</td>\n",
       "      <td>Cabernet Sauvignon</td>\n",
       "      <td>Heitz</td>\n",
       "    </tr>\n",
       "    <tr>\n",
       "      <td>1</td>\n",
       "      <td>1</td>\n",
       "      <td>Spain</td>\n",
       "      <td>Ripe aromas of fig, blackberry and cassis are ...</td>\n",
       "      <td>Carodorum Selección Especial Reserva</td>\n",
       "      <td>96</td>\n",
       "      <td>110.0</td>\n",
       "      <td>Northern Spain</td>\n",
       "      <td>Toro</td>\n",
       "      <td>NaN</td>\n",
       "      <td>Tinta de Toro</td>\n",
       "      <td>Bodega Carmen Rodríguez</td>\n",
       "    </tr>\n",
       "    <tr>\n",
       "      <td>2</td>\n",
       "      <td>2</td>\n",
       "      <td>US</td>\n",
       "      <td>Mac Watson honors the memory of a wine once ma...</td>\n",
       "      <td>Special Selected Late Harvest</td>\n",
       "      <td>96</td>\n",
       "      <td>90.0</td>\n",
       "      <td>California</td>\n",
       "      <td>Knights Valley</td>\n",
       "      <td>Sonoma</td>\n",
       "      <td>Sauvignon Blanc</td>\n",
       "      <td>Macauley</td>\n",
       "    </tr>\n",
       "    <tr>\n",
       "      <td>3</td>\n",
       "      <td>3</td>\n",
       "      <td>US</td>\n",
       "      <td>This spent 20 months in 30% new French oak, an...</td>\n",
       "      <td>Reserve</td>\n",
       "      <td>96</td>\n",
       "      <td>65.0</td>\n",
       "      <td>Oregon</td>\n",
       "      <td>Willamette Valley</td>\n",
       "      <td>Willamette Valley</td>\n",
       "      <td>Pinot Noir</td>\n",
       "      <td>Ponzi</td>\n",
       "    </tr>\n",
       "    <tr>\n",
       "      <td>4</td>\n",
       "      <td>4</td>\n",
       "      <td>France</td>\n",
       "      <td>This is the top wine from La Bégude, named aft...</td>\n",
       "      <td>La Brûlade</td>\n",
       "      <td>95</td>\n",
       "      <td>66.0</td>\n",
       "      <td>Provence</td>\n",
       "      <td>Bandol</td>\n",
       "      <td>NaN</td>\n",
       "      <td>Provence red blend</td>\n",
       "      <td>Domaine de la Bégude</td>\n",
       "    </tr>\n",
       "    <tr>\n",
       "      <td>...</td>\n",
       "      <td>...</td>\n",
       "      <td>...</td>\n",
       "      <td>...</td>\n",
       "      <td>...</td>\n",
       "      <td>...</td>\n",
       "      <td>...</td>\n",
       "      <td>...</td>\n",
       "      <td>...</td>\n",
       "      <td>...</td>\n",
       "      <td>...</td>\n",
       "      <td>...</td>\n",
       "    </tr>\n",
       "    <tr>\n",
       "      <td>150925</td>\n",
       "      <td>150925</td>\n",
       "      <td>Italy</td>\n",
       "      <td>Many people feel Fiano represents southern Ita...</td>\n",
       "      <td>NaN</td>\n",
       "      <td>91</td>\n",
       "      <td>20.0</td>\n",
       "      <td>Southern Italy</td>\n",
       "      <td>Fiano di Avellino</td>\n",
       "      <td>NaN</td>\n",
       "      <td>White Blend</td>\n",
       "      <td>Feudi di San Gregorio</td>\n",
       "    </tr>\n",
       "    <tr>\n",
       "      <td>150926</td>\n",
       "      <td>150926</td>\n",
       "      <td>France</td>\n",
       "      <td>Offers an intriguing nose with ginger, lime an...</td>\n",
       "      <td>Cuvée Prestige</td>\n",
       "      <td>91</td>\n",
       "      <td>27.0</td>\n",
       "      <td>Champagne</td>\n",
       "      <td>Champagne</td>\n",
       "      <td>NaN</td>\n",
       "      <td>Champagne Blend</td>\n",
       "      <td>H.Germain</td>\n",
       "    </tr>\n",
       "    <tr>\n",
       "      <td>150927</td>\n",
       "      <td>150927</td>\n",
       "      <td>Italy</td>\n",
       "      <td>This classic example comes from a cru vineyard...</td>\n",
       "      <td>Terre di Dora</td>\n",
       "      <td>91</td>\n",
       "      <td>20.0</td>\n",
       "      <td>Southern Italy</td>\n",
       "      <td>Fiano di Avellino</td>\n",
       "      <td>NaN</td>\n",
       "      <td>White Blend</td>\n",
       "      <td>Terredora</td>\n",
       "    </tr>\n",
       "    <tr>\n",
       "      <td>150928</td>\n",
       "      <td>150928</td>\n",
       "      <td>France</td>\n",
       "      <td>A perfect salmon shade, with scents of peaches...</td>\n",
       "      <td>Grand Brut Rosé</td>\n",
       "      <td>90</td>\n",
       "      <td>52.0</td>\n",
       "      <td>Champagne</td>\n",
       "      <td>Champagne</td>\n",
       "      <td>NaN</td>\n",
       "      <td>Champagne Blend</td>\n",
       "      <td>Gosset</td>\n",
       "    </tr>\n",
       "    <tr>\n",
       "      <td>150929</td>\n",
       "      <td>150929</td>\n",
       "      <td>Italy</td>\n",
       "      <td>More Pinot Grigios should taste like this. A r...</td>\n",
       "      <td>NaN</td>\n",
       "      <td>90</td>\n",
       "      <td>15.0</td>\n",
       "      <td>Northeastern Italy</td>\n",
       "      <td>Alto Adige</td>\n",
       "      <td>NaN</td>\n",
       "      <td>Pinot Grigio</td>\n",
       "      <td>Alois Lageder</td>\n",
       "    </tr>\n",
       "  </tbody>\n",
       "</table>\n",
       "<p>150930 rows × 11 columns</p>\n",
       "</div>"
      ],
      "text/plain": [
       "        Unnamed: 0 country                                        description  \\\n",
       "0                0      US  This tremendous 100% varietal wine hails from ...   \n",
       "1                1   Spain  Ripe aromas of fig, blackberry and cassis are ...   \n",
       "2                2      US  Mac Watson honors the memory of a wine once ma...   \n",
       "3                3      US  This spent 20 months in 30% new French oak, an...   \n",
       "4                4  France  This is the top wine from La Bégude, named aft...   \n",
       "...            ...     ...                                                ...   \n",
       "150925      150925   Italy  Many people feel Fiano represents southern Ita...   \n",
       "150926      150926  France  Offers an intriguing nose with ginger, lime an...   \n",
       "150927      150927   Italy  This classic example comes from a cru vineyard...   \n",
       "150928      150928  France  A perfect salmon shade, with scents of peaches...   \n",
       "150929      150929   Italy  More Pinot Grigios should taste like this. A r...   \n",
       "\n",
       "                                 designation  points  price  \\\n",
       "0                          Martha's Vineyard      96  235.0   \n",
       "1       Carodorum Selección Especial Reserva      96  110.0   \n",
       "2              Special Selected Late Harvest      96   90.0   \n",
       "3                                    Reserve      96   65.0   \n",
       "4                                 La Brûlade      95   66.0   \n",
       "...                                      ...     ...    ...   \n",
       "150925                                   NaN      91   20.0   \n",
       "150926                        Cuvée Prestige      91   27.0   \n",
       "150927                         Terre di Dora      91   20.0   \n",
       "150928                       Grand Brut Rosé      90   52.0   \n",
       "150929                                   NaN      90   15.0   \n",
       "\n",
       "                  province           region_1           region_2  \\\n",
       "0               California        Napa Valley               Napa   \n",
       "1           Northern Spain               Toro                NaN   \n",
       "2               California     Knights Valley             Sonoma   \n",
       "3                   Oregon  Willamette Valley  Willamette Valley   \n",
       "4                 Provence             Bandol                NaN   \n",
       "...                    ...                ...                ...   \n",
       "150925      Southern Italy  Fiano di Avellino                NaN   \n",
       "150926           Champagne          Champagne                NaN   \n",
       "150927      Southern Italy  Fiano di Avellino                NaN   \n",
       "150928           Champagne          Champagne                NaN   \n",
       "150929  Northeastern Italy         Alto Adige                NaN   \n",
       "\n",
       "                   variety                   winery  \n",
       "0       Cabernet Sauvignon                    Heitz  \n",
       "1            Tinta de Toro  Bodega Carmen Rodríguez  \n",
       "2          Sauvignon Blanc                 Macauley  \n",
       "3               Pinot Noir                    Ponzi  \n",
       "4       Provence red blend     Domaine de la Bégude  \n",
       "...                    ...                      ...  \n",
       "150925         White Blend    Feudi di San Gregorio  \n",
       "150926     Champagne Blend                H.Germain  \n",
       "150927         White Blend                Terredora  \n",
       "150928     Champagne Blend                   Gosset  \n",
       "150929        Pinot Grigio            Alois Lageder  \n",
       "\n",
       "[150930 rows x 11 columns]"
      ]
     },
     "execution_count": 1,
     "metadata": {},
     "output_type": "execute_result"
    }
   ],
   "source": [
    "import pandas as pd\n",
    "import matplotlib as plt\n",
    "import seaborn as sns\n",
    "%matplotlib inline\n",
    "wr = pd.read_csv(\"/Users/USUARIO/Documents/GitHub/winemag-data_first150k.csv\")\n",
    "wr"
   ]
  },
  {
   "cell_type": "code",
   "execution_count": 2,
   "metadata": {
    "scrolled": true
   },
   "outputs": [
    {
     "data": {
      "text/plain": [
       "(150930, 11)"
      ]
     },
     "execution_count": 2,
     "metadata": {},
     "output_type": "execute_result"
    }
   ],
   "source": [
    "wr.shape"
   ]
  },
  {
   "cell_type": "code",
   "execution_count": 3,
   "metadata": {},
   "outputs": [
    {
     "data": {
      "text/plain": [
       "Unnamed: 0       int64\n",
       "country         object\n",
       "description     object\n",
       "designation     object\n",
       "points           int64\n",
       "price          float64\n",
       "province        object\n",
       "region_1        object\n",
       "region_2        object\n",
       "variety         object\n",
       "winery          object\n",
       "dtype: object"
      ]
     },
     "execution_count": 3,
     "metadata": {},
     "output_type": "execute_result"
    }
   ],
   "source": [
    "wr.dtypes"
   ]
  },
  {
   "cell_type": "code",
   "execution_count": 4,
   "metadata": {},
   "outputs": [
    {
     "data": {
      "text/plain": [
       "Index(['Unnamed: 0', 'country', 'description', 'designation', 'points',\n",
       "       'price', 'province', 'region_1', 'region_2', 'variety', 'winery'],\n",
       "      dtype='object')"
      ]
     },
     "execution_count": 4,
     "metadata": {},
     "output_type": "execute_result"
    }
   ],
   "source": [
    "wr.columns"
   ]
  },
  {
   "cell_type": "code",
   "execution_count": 5,
   "metadata": {},
   "outputs": [
    {
     "data": {
      "text/html": [
       "<div>\n",
       "<style scoped>\n",
       "    .dataframe tbody tr th:only-of-type {\n",
       "        vertical-align: middle;\n",
       "    }\n",
       "\n",
       "    .dataframe tbody tr th {\n",
       "        vertical-align: top;\n",
       "    }\n",
       "\n",
       "    .dataframe thead th {\n",
       "        text-align: right;\n",
       "    }\n",
       "</style>\n",
       "<table border=\"1\" class=\"dataframe\">\n",
       "  <thead>\n",
       "    <tr style=\"text-align: right;\">\n",
       "      <th></th>\n",
       "      <th>Unnamed: 0</th>\n",
       "      <th>country</th>\n",
       "      <th>description</th>\n",
       "      <th>points</th>\n",
       "      <th>price</th>\n",
       "      <th>province</th>\n",
       "    </tr>\n",
       "  </thead>\n",
       "  <tbody>\n",
       "    <tr>\n",
       "      <td>0</td>\n",
       "      <td>0</td>\n",
       "      <td>US</td>\n",
       "      <td>This tremendous 100% varietal wine hails from ...</td>\n",
       "      <td>96</td>\n",
       "      <td>235.0</td>\n",
       "      <td>California</td>\n",
       "    </tr>\n",
       "    <tr>\n",
       "      <td>1</td>\n",
       "      <td>1</td>\n",
       "      <td>Spain</td>\n",
       "      <td>Ripe aromas of fig, blackberry and cassis are ...</td>\n",
       "      <td>96</td>\n",
       "      <td>110.0</td>\n",
       "      <td>Northern Spain</td>\n",
       "    </tr>\n",
       "    <tr>\n",
       "      <td>2</td>\n",
       "      <td>2</td>\n",
       "      <td>US</td>\n",
       "      <td>Mac Watson honors the memory of a wine once ma...</td>\n",
       "      <td>96</td>\n",
       "      <td>90.0</td>\n",
       "      <td>California</td>\n",
       "    </tr>\n",
       "    <tr>\n",
       "      <td>3</td>\n",
       "      <td>3</td>\n",
       "      <td>US</td>\n",
       "      <td>This spent 20 months in 30% new French oak, an...</td>\n",
       "      <td>96</td>\n",
       "      <td>65.0</td>\n",
       "      <td>Oregon</td>\n",
       "    </tr>\n",
       "    <tr>\n",
       "      <td>4</td>\n",
       "      <td>4</td>\n",
       "      <td>France</td>\n",
       "      <td>This is the top wine from La Bégude, named aft...</td>\n",
       "      <td>95</td>\n",
       "      <td>66.0</td>\n",
       "      <td>Provence</td>\n",
       "    </tr>\n",
       "    <tr>\n",
       "      <td>...</td>\n",
       "      <td>...</td>\n",
       "      <td>...</td>\n",
       "      <td>...</td>\n",
       "      <td>...</td>\n",
       "      <td>...</td>\n",
       "      <td>...</td>\n",
       "    </tr>\n",
       "    <tr>\n",
       "      <td>150925</td>\n",
       "      <td>150925</td>\n",
       "      <td>Italy</td>\n",
       "      <td>Many people feel Fiano represents southern Ita...</td>\n",
       "      <td>91</td>\n",
       "      <td>20.0</td>\n",
       "      <td>Southern Italy</td>\n",
       "    </tr>\n",
       "    <tr>\n",
       "      <td>150926</td>\n",
       "      <td>150926</td>\n",
       "      <td>France</td>\n",
       "      <td>Offers an intriguing nose with ginger, lime an...</td>\n",
       "      <td>91</td>\n",
       "      <td>27.0</td>\n",
       "      <td>Champagne</td>\n",
       "    </tr>\n",
       "    <tr>\n",
       "      <td>150927</td>\n",
       "      <td>150927</td>\n",
       "      <td>Italy</td>\n",
       "      <td>This classic example comes from a cru vineyard...</td>\n",
       "      <td>91</td>\n",
       "      <td>20.0</td>\n",
       "      <td>Southern Italy</td>\n",
       "    </tr>\n",
       "    <tr>\n",
       "      <td>150928</td>\n",
       "      <td>150928</td>\n",
       "      <td>France</td>\n",
       "      <td>A perfect salmon shade, with scents of peaches...</td>\n",
       "      <td>90</td>\n",
       "      <td>52.0</td>\n",
       "      <td>Champagne</td>\n",
       "    </tr>\n",
       "    <tr>\n",
       "      <td>150929</td>\n",
       "      <td>150929</td>\n",
       "      <td>Italy</td>\n",
       "      <td>More Pinot Grigios should taste like this. A r...</td>\n",
       "      <td>90</td>\n",
       "      <td>15.0</td>\n",
       "      <td>Northeastern Italy</td>\n",
       "    </tr>\n",
       "  </tbody>\n",
       "</table>\n",
       "<p>150930 rows × 6 columns</p>\n",
       "</div>"
      ],
      "text/plain": [
       "        Unnamed: 0 country                                        description  \\\n",
       "0                0      US  This tremendous 100% varietal wine hails from ...   \n",
       "1                1   Spain  Ripe aromas of fig, blackberry and cassis are ...   \n",
       "2                2      US  Mac Watson honors the memory of a wine once ma...   \n",
       "3                3      US  This spent 20 months in 30% new French oak, an...   \n",
       "4                4  France  This is the top wine from La Bégude, named aft...   \n",
       "...            ...     ...                                                ...   \n",
       "150925      150925   Italy  Many people feel Fiano represents southern Ita...   \n",
       "150926      150926  France  Offers an intriguing nose with ginger, lime an...   \n",
       "150927      150927   Italy  This classic example comes from a cru vineyard...   \n",
       "150928      150928  France  A perfect salmon shade, with scents of peaches...   \n",
       "150929      150929   Italy  More Pinot Grigios should taste like this. A r...   \n",
       "\n",
       "        points  price            province  \n",
       "0           96  235.0          California  \n",
       "1           96  110.0      Northern Spain  \n",
       "2           96   90.0          California  \n",
       "3           96   65.0              Oregon  \n",
       "4           95   66.0            Provence  \n",
       "...        ...    ...                 ...  \n",
       "150925      91   20.0      Southern Italy  \n",
       "150926      91   27.0           Champagne  \n",
       "150927      91   20.0      Southern Italy  \n",
       "150928      90   52.0           Champagne  \n",
       "150929      90   15.0  Northeastern Italy  \n",
       "\n",
       "[150930 rows x 6 columns]"
      ]
     },
     "execution_count": 5,
     "metadata": {},
     "output_type": "execute_result"
    }
   ],
   "source": [
    "review = wr.drop(['designation','region_1', 'region_2', 'variety', 'winery'], axis=1)\n",
    "review"
   ]
  },
  {
   "cell_type": "code",
   "execution_count": 6,
   "metadata": {
    "scrolled": true
   },
   "outputs": [
    {
     "data": {
      "text/html": [
       "<div>\n",
       "<style scoped>\n",
       "    .dataframe tbody tr th:only-of-type {\n",
       "        vertical-align: middle;\n",
       "    }\n",
       "\n",
       "    .dataframe tbody tr th {\n",
       "        vertical-align: top;\n",
       "    }\n",
       "\n",
       "    .dataframe thead th {\n",
       "        text-align: right;\n",
       "    }\n",
       "</style>\n",
       "<table border=\"1\" class=\"dataframe\">\n",
       "  <thead>\n",
       "    <tr style=\"text-align: right;\">\n",
       "      <th></th>\n",
       "      <th>ID</th>\n",
       "      <th>Country</th>\n",
       "      <th>Description</th>\n",
       "      <th>Points</th>\n",
       "      <th>Price</th>\n",
       "      <th>Province</th>\n",
       "    </tr>\n",
       "  </thead>\n",
       "  <tbody>\n",
       "    <tr>\n",
       "      <td>0</td>\n",
       "      <td>0</td>\n",
       "      <td>US</td>\n",
       "      <td>This tremendous 100% varietal wine hails from ...</td>\n",
       "      <td>96</td>\n",
       "      <td>235.0</td>\n",
       "      <td>California</td>\n",
       "    </tr>\n",
       "    <tr>\n",
       "      <td>1</td>\n",
       "      <td>1</td>\n",
       "      <td>Spain</td>\n",
       "      <td>Ripe aromas of fig, blackberry and cassis are ...</td>\n",
       "      <td>96</td>\n",
       "      <td>110.0</td>\n",
       "      <td>Northern Spain</td>\n",
       "    </tr>\n",
       "    <tr>\n",
       "      <td>2</td>\n",
       "      <td>2</td>\n",
       "      <td>US</td>\n",
       "      <td>Mac Watson honors the memory of a wine once ma...</td>\n",
       "      <td>96</td>\n",
       "      <td>90.0</td>\n",
       "      <td>California</td>\n",
       "    </tr>\n",
       "    <tr>\n",
       "      <td>3</td>\n",
       "      <td>3</td>\n",
       "      <td>US</td>\n",
       "      <td>This spent 20 months in 30% new French oak, an...</td>\n",
       "      <td>96</td>\n",
       "      <td>65.0</td>\n",
       "      <td>Oregon</td>\n",
       "    </tr>\n",
       "    <tr>\n",
       "      <td>4</td>\n",
       "      <td>4</td>\n",
       "      <td>France</td>\n",
       "      <td>This is the top wine from La Bégude, named aft...</td>\n",
       "      <td>95</td>\n",
       "      <td>66.0</td>\n",
       "      <td>Provence</td>\n",
       "    </tr>\n",
       "    <tr>\n",
       "      <td>...</td>\n",
       "      <td>...</td>\n",
       "      <td>...</td>\n",
       "      <td>...</td>\n",
       "      <td>...</td>\n",
       "      <td>...</td>\n",
       "      <td>...</td>\n",
       "    </tr>\n",
       "    <tr>\n",
       "      <td>150925</td>\n",
       "      <td>150925</td>\n",
       "      <td>Italy</td>\n",
       "      <td>Many people feel Fiano represents southern Ita...</td>\n",
       "      <td>91</td>\n",
       "      <td>20.0</td>\n",
       "      <td>Southern Italy</td>\n",
       "    </tr>\n",
       "    <tr>\n",
       "      <td>150926</td>\n",
       "      <td>150926</td>\n",
       "      <td>France</td>\n",
       "      <td>Offers an intriguing nose with ginger, lime an...</td>\n",
       "      <td>91</td>\n",
       "      <td>27.0</td>\n",
       "      <td>Champagne</td>\n",
       "    </tr>\n",
       "    <tr>\n",
       "      <td>150927</td>\n",
       "      <td>150927</td>\n",
       "      <td>Italy</td>\n",
       "      <td>This classic example comes from a cru vineyard...</td>\n",
       "      <td>91</td>\n",
       "      <td>20.0</td>\n",
       "      <td>Southern Italy</td>\n",
       "    </tr>\n",
       "    <tr>\n",
       "      <td>150928</td>\n",
       "      <td>150928</td>\n",
       "      <td>France</td>\n",
       "      <td>A perfect salmon shade, with scents of peaches...</td>\n",
       "      <td>90</td>\n",
       "      <td>52.0</td>\n",
       "      <td>Champagne</td>\n",
       "    </tr>\n",
       "    <tr>\n",
       "      <td>150929</td>\n",
       "      <td>150929</td>\n",
       "      <td>Italy</td>\n",
       "      <td>More Pinot Grigios should taste like this. A r...</td>\n",
       "      <td>90</td>\n",
       "      <td>15.0</td>\n",
       "      <td>Northeastern Italy</td>\n",
       "    </tr>\n",
       "  </tbody>\n",
       "</table>\n",
       "<p>150930 rows × 6 columns</p>\n",
       "</div>"
      ],
      "text/plain": [
       "            ID Country                                        Description  \\\n",
       "0            0      US  This tremendous 100% varietal wine hails from ...   \n",
       "1            1   Spain  Ripe aromas of fig, blackberry and cassis are ...   \n",
       "2            2      US  Mac Watson honors the memory of a wine once ma...   \n",
       "3            3      US  This spent 20 months in 30% new French oak, an...   \n",
       "4            4  France  This is the top wine from La Bégude, named aft...   \n",
       "...        ...     ...                                                ...   \n",
       "150925  150925   Italy  Many people feel Fiano represents southern Ita...   \n",
       "150926  150926  France  Offers an intriguing nose with ginger, lime an...   \n",
       "150927  150927   Italy  This classic example comes from a cru vineyard...   \n",
       "150928  150928  France  A perfect salmon shade, with scents of peaches...   \n",
       "150929  150929   Italy  More Pinot Grigios should taste like this. A r...   \n",
       "\n",
       "        Points  Price            Province  \n",
       "0           96  235.0          California  \n",
       "1           96  110.0      Northern Spain  \n",
       "2           96   90.0          California  \n",
       "3           96   65.0              Oregon  \n",
       "4           95   66.0            Provence  \n",
       "...        ...    ...                 ...  \n",
       "150925      91   20.0      Southern Italy  \n",
       "150926      91   27.0           Champagne  \n",
       "150927      91   20.0      Southern Italy  \n",
       "150928      90   52.0           Champagne  \n",
       "150929      90   15.0  Northeastern Italy  \n",
       "\n",
       "[150930 rows x 6 columns]"
      ]
     },
     "execution_count": 6,
     "metadata": {},
     "output_type": "execute_result"
    }
   ],
   "source": [
    "reviews=review.rename(columns = {'Unnamed: 0':'ID', 'country':'Country', 'description':'Description', 'points':'Points', 'price':'Price','province':'Province'})\n",
    "reviews"
   ]
  },
  {
   "cell_type": "code",
   "execution_count": 7,
   "metadata": {
    "scrolled": false
   },
   "outputs": [
    {
     "data": {
      "text/plain": [
       "array(['US', 'Spain', 'France', 'Italy', 'New Zealand', 'Bulgaria',\n",
       "       'Argentina', 'Australia', 'Portugal', 'Israel', 'South Africa',\n",
       "       'Greece', 'Chile', 'Morocco', 'Romania', 'Germany', 'Canada',\n",
       "       'Moldova', 'Hungary', 'Austria', 'Croatia', 'Slovenia', nan,\n",
       "       'India', 'Turkey', 'Macedonia', 'Lebanon', 'Serbia', 'Uruguay',\n",
       "       'Switzerland', 'Albania', 'Bosnia and Herzegovina', 'Brazil',\n",
       "       'Cyprus', 'Lithuania', 'Japan', 'China', 'South Korea', 'Ukraine',\n",
       "       'England', 'Mexico', 'Georgia', 'Montenegro', 'Luxembourg',\n",
       "       'Slovakia', 'Czech Republic', 'Egypt', 'Tunisia', 'US-France'],\n",
       "      dtype=object)"
      ]
     },
     "execution_count": 7,
     "metadata": {},
     "output_type": "execute_result"
    }
   ],
   "source": [
    "reviews.Country.unique()"
   ]
  },
  {
   "cell_type": "code",
   "execution_count": 8,
   "metadata": {},
   "outputs": [
    {
     "data": {
      "text/html": [
       "<div>\n",
       "<style scoped>\n",
       "    .dataframe tbody tr th:only-of-type {\n",
       "        vertical-align: middle;\n",
       "    }\n",
       "\n",
       "    .dataframe tbody tr th {\n",
       "        vertical-align: top;\n",
       "    }\n",
       "\n",
       "    .dataframe thead th {\n",
       "        text-align: right;\n",
       "    }\n",
       "</style>\n",
       "<table border=\"1\" class=\"dataframe\">\n",
       "  <thead>\n",
       "    <tr style=\"text-align: right;\">\n",
       "      <th></th>\n",
       "      <th>ID</th>\n",
       "      <th>Country</th>\n",
       "      <th>Description</th>\n",
       "      <th>Points</th>\n",
       "      <th>Price</th>\n",
       "      <th>Province</th>\n",
       "    </tr>\n",
       "  </thead>\n",
       "  <tbody>\n",
       "    <tr>\n",
       "      <td>394</td>\n",
       "      <td>394</td>\n",
       "      <td>Canada</td>\n",
       "      <td>This Bordeaux-style blend is comprised of 44% ...</td>\n",
       "      <td>90</td>\n",
       "      <td>70.0</td>\n",
       "      <td>British Columbia</td>\n",
       "    </tr>\n",
       "    <tr>\n",
       "      <td>517</td>\n",
       "      <td>517</td>\n",
       "      <td>Canada</td>\n",
       "      <td>Coming from vines ranging in age from 9–39 yea...</td>\n",
       "      <td>92</td>\n",
       "      <td>17.0</td>\n",
       "      <td>Ontario</td>\n",
       "    </tr>\n",
       "    <tr>\n",
       "      <td>705</td>\n",
       "      <td>705</td>\n",
       "      <td>Canada</td>\n",
       "      <td>This comes in at 15g/L residual sugar, but it'...</td>\n",
       "      <td>90</td>\n",
       "      <td>24.0</td>\n",
       "      <td>British Columbia</td>\n",
       "    </tr>\n",
       "    <tr>\n",
       "      <td>714</td>\n",
       "      <td>714</td>\n",
       "      <td>Canada</td>\n",
       "      <td>Fresh and creamy, this delicious wine shows a ...</td>\n",
       "      <td>90</td>\n",
       "      <td>19.0</td>\n",
       "      <td>British Columbia</td>\n",
       "    </tr>\n",
       "    <tr>\n",
       "      <td>851</td>\n",
       "      <td>851</td>\n",
       "      <td>Canada</td>\n",
       "      <td>Smooth and engaging, this offers classic varie...</td>\n",
       "      <td>90</td>\n",
       "      <td>38.0</td>\n",
       "      <td>British Columbia</td>\n",
       "    </tr>\n",
       "    <tr>\n",
       "      <td>...</td>\n",
       "      <td>...</td>\n",
       "      <td>...</td>\n",
       "      <td>...</td>\n",
       "      <td>...</td>\n",
       "      <td>...</td>\n",
       "      <td>...</td>\n",
       "    </tr>\n",
       "    <tr>\n",
       "      <td>150639</td>\n",
       "      <td>150639</td>\n",
       "      <td>Canada</td>\n",
       "      <td>Shows ample evidence of botrytis on the aprico...</td>\n",
       "      <td>88</td>\n",
       "      <td>30.0</td>\n",
       "      <td>Ontario</td>\n",
       "    </tr>\n",
       "    <tr>\n",
       "      <td>150644</td>\n",
       "      <td>150644</td>\n",
       "      <td>Canada</td>\n",
       "      <td>Vidal has a peculiar bouquet that I have a har...</td>\n",
       "      <td>87</td>\n",
       "      <td>25.0</td>\n",
       "      <td>Ontario</td>\n",
       "    </tr>\n",
       "    <tr>\n",
       "      <td>150676</td>\n",
       "      <td>150676</td>\n",
       "      <td>Canada</td>\n",
       "      <td>Peaches and pears, lemons and grapefruits come...</td>\n",
       "      <td>87</td>\n",
       "      <td>23.0</td>\n",
       "      <td>Ontario</td>\n",
       "    </tr>\n",
       "    <tr>\n",
       "      <td>150699</td>\n",
       "      <td>150699</td>\n",
       "      <td>Canada</td>\n",
       "      <td>Smells oily, with a diesel-fuel note that some...</td>\n",
       "      <td>86</td>\n",
       "      <td>18.0</td>\n",
       "      <td>Ontario</td>\n",
       "    </tr>\n",
       "    <tr>\n",
       "      <td>150727</td>\n",
       "      <td>150727</td>\n",
       "      <td>Canada</td>\n",
       "      <td>A real oddball that's musky, melony, sweet and...</td>\n",
       "      <td>84</td>\n",
       "      <td>83.0</td>\n",
       "      <td>Ontario</td>\n",
       "    </tr>\n",
       "  </tbody>\n",
       "</table>\n",
       "<p>196 rows × 6 columns</p>\n",
       "</div>"
      ],
      "text/plain": [
       "            ID Country                                        Description  \\\n",
       "394        394  Canada  This Bordeaux-style blend is comprised of 44% ...   \n",
       "517        517  Canada  Coming from vines ranging in age from 9–39 yea...   \n",
       "705        705  Canada  This comes in at 15g/L residual sugar, but it'...   \n",
       "714        714  Canada  Fresh and creamy, this delicious wine shows a ...   \n",
       "851        851  Canada  Smooth and engaging, this offers classic varie...   \n",
       "...        ...     ...                                                ...   \n",
       "150639  150639  Canada  Shows ample evidence of botrytis on the aprico...   \n",
       "150644  150644  Canada  Vidal has a peculiar bouquet that I have a har...   \n",
       "150676  150676  Canada  Peaches and pears, lemons and grapefruits come...   \n",
       "150699  150699  Canada  Smells oily, with a diesel-fuel note that some...   \n",
       "150727  150727  Canada  A real oddball that's musky, melony, sweet and...   \n",
       "\n",
       "        Points  Price          Province  \n",
       "394         90   70.0  British Columbia  \n",
       "517         92   17.0           Ontario  \n",
       "705         90   24.0  British Columbia  \n",
       "714         90   19.0  British Columbia  \n",
       "851         90   38.0  British Columbia  \n",
       "...        ...    ...               ...  \n",
       "150639      88   30.0           Ontario  \n",
       "150644      87   25.0           Ontario  \n",
       "150676      87   23.0           Ontario  \n",
       "150699      86   18.0           Ontario  \n",
       "150727      84   83.0           Ontario  \n",
       "\n",
       "[196 rows x 6 columns]"
      ]
     },
     "execution_count": 8,
     "metadata": {},
     "output_type": "execute_result"
    }
   ],
   "source": [
    "Canadac=reviews[reviews['Country']=='Canada']\n",
    "Canadac"
   ]
  },
  {
   "cell_type": "code",
   "execution_count": 9,
   "metadata": {},
   "outputs": [
    {
     "data": {
      "text/plain": [
       "ID             False\n",
       "Country        False\n",
       "Description    False\n",
       "Points         False\n",
       "Price           True\n",
       "Province       False\n",
       "dtype: bool"
      ]
     },
     "execution_count": 9,
     "metadata": {},
     "output_type": "execute_result"
    }
   ],
   "source": [
    "Canadac.isnull().any()"
   ]
  },
  {
   "cell_type": "code",
   "execution_count": 10,
   "metadata": {
    "scrolled": true
   },
   "outputs": [
    {
     "data": {
      "text/html": [
       "<div>\n",
       "<style scoped>\n",
       "    .dataframe tbody tr th:only-of-type {\n",
       "        vertical-align: middle;\n",
       "    }\n",
       "\n",
       "    .dataframe tbody tr th {\n",
       "        vertical-align: top;\n",
       "    }\n",
       "\n",
       "    .dataframe thead th {\n",
       "        text-align: right;\n",
       "    }\n",
       "</style>\n",
       "<table border=\"1\" class=\"dataframe\">\n",
       "  <thead>\n",
       "    <tr style=\"text-align: right;\">\n",
       "      <th></th>\n",
       "      <th>ID</th>\n",
       "      <th>Country</th>\n",
       "      <th>Description</th>\n",
       "      <th>Points</th>\n",
       "      <th>Price</th>\n",
       "      <th>Province</th>\n",
       "    </tr>\n",
       "  </thead>\n",
       "  <tbody>\n",
       "    <tr>\n",
       "      <td>394</td>\n",
       "      <td>394</td>\n",
       "      <td>Canada</td>\n",
       "      <td>This Bordeaux-style blend is comprised of 44% ...</td>\n",
       "      <td>90</td>\n",
       "      <td>70.0</td>\n",
       "      <td>British Columbia</td>\n",
       "    </tr>\n",
       "    <tr>\n",
       "      <td>517</td>\n",
       "      <td>517</td>\n",
       "      <td>Canada</td>\n",
       "      <td>Coming from vines ranging in age from 9–39 yea...</td>\n",
       "      <td>92</td>\n",
       "      <td>17.0</td>\n",
       "      <td>Ontario</td>\n",
       "    </tr>\n",
       "    <tr>\n",
       "      <td>705</td>\n",
       "      <td>705</td>\n",
       "      <td>Canada</td>\n",
       "      <td>This comes in at 15g/L residual sugar, but it'...</td>\n",
       "      <td>90</td>\n",
       "      <td>24.0</td>\n",
       "      <td>British Columbia</td>\n",
       "    </tr>\n",
       "    <tr>\n",
       "      <td>714</td>\n",
       "      <td>714</td>\n",
       "      <td>Canada</td>\n",
       "      <td>Fresh and creamy, this delicious wine shows a ...</td>\n",
       "      <td>90</td>\n",
       "      <td>19.0</td>\n",
       "      <td>British Columbia</td>\n",
       "    </tr>\n",
       "    <tr>\n",
       "      <td>851</td>\n",
       "      <td>851</td>\n",
       "      <td>Canada</td>\n",
       "      <td>Smooth and engaging, this offers classic varie...</td>\n",
       "      <td>90</td>\n",
       "      <td>38.0</td>\n",
       "      <td>British Columbia</td>\n",
       "    </tr>\n",
       "    <tr>\n",
       "      <td>...</td>\n",
       "      <td>...</td>\n",
       "      <td>...</td>\n",
       "      <td>...</td>\n",
       "      <td>...</td>\n",
       "      <td>...</td>\n",
       "      <td>...</td>\n",
       "    </tr>\n",
       "    <tr>\n",
       "      <td>150639</td>\n",
       "      <td>150639</td>\n",
       "      <td>Canada</td>\n",
       "      <td>Shows ample evidence of botrytis on the aprico...</td>\n",
       "      <td>88</td>\n",
       "      <td>30.0</td>\n",
       "      <td>Ontario</td>\n",
       "    </tr>\n",
       "    <tr>\n",
       "      <td>150644</td>\n",
       "      <td>150644</td>\n",
       "      <td>Canada</td>\n",
       "      <td>Vidal has a peculiar bouquet that I have a har...</td>\n",
       "      <td>87</td>\n",
       "      <td>25.0</td>\n",
       "      <td>Ontario</td>\n",
       "    </tr>\n",
       "    <tr>\n",
       "      <td>150676</td>\n",
       "      <td>150676</td>\n",
       "      <td>Canada</td>\n",
       "      <td>Peaches and pears, lemons and grapefruits come...</td>\n",
       "      <td>87</td>\n",
       "      <td>23.0</td>\n",
       "      <td>Ontario</td>\n",
       "    </tr>\n",
       "    <tr>\n",
       "      <td>150699</td>\n",
       "      <td>150699</td>\n",
       "      <td>Canada</td>\n",
       "      <td>Smells oily, with a diesel-fuel note that some...</td>\n",
       "      <td>86</td>\n",
       "      <td>18.0</td>\n",
       "      <td>Ontario</td>\n",
       "    </tr>\n",
       "    <tr>\n",
       "      <td>150727</td>\n",
       "      <td>150727</td>\n",
       "      <td>Canada</td>\n",
       "      <td>A real oddball that's musky, melony, sweet and...</td>\n",
       "      <td>84</td>\n",
       "      <td>83.0</td>\n",
       "      <td>Ontario</td>\n",
       "    </tr>\n",
       "  </tbody>\n",
       "</table>\n",
       "<p>194 rows × 6 columns</p>\n",
       "</div>"
      ],
      "text/plain": [
       "            ID Country                                        Description  \\\n",
       "394        394  Canada  This Bordeaux-style blend is comprised of 44% ...   \n",
       "517        517  Canada  Coming from vines ranging in age from 9–39 yea...   \n",
       "705        705  Canada  This comes in at 15g/L residual sugar, but it'...   \n",
       "714        714  Canada  Fresh and creamy, this delicious wine shows a ...   \n",
       "851        851  Canada  Smooth and engaging, this offers classic varie...   \n",
       "...        ...     ...                                                ...   \n",
       "150639  150639  Canada  Shows ample evidence of botrytis on the aprico...   \n",
       "150644  150644  Canada  Vidal has a peculiar bouquet that I have a har...   \n",
       "150676  150676  Canada  Peaches and pears, lemons and grapefruits come...   \n",
       "150699  150699  Canada  Smells oily, with a diesel-fuel note that some...   \n",
       "150727  150727  Canada  A real oddball that's musky, melony, sweet and...   \n",
       "\n",
       "        Points  Price          Province  \n",
       "394         90   70.0  British Columbia  \n",
       "517         92   17.0           Ontario  \n",
       "705         90   24.0  British Columbia  \n",
       "714         90   19.0  British Columbia  \n",
       "851         90   38.0  British Columbia  \n",
       "...        ...    ...               ...  \n",
       "150639      88   30.0           Ontario  \n",
       "150644      87   25.0           Ontario  \n",
       "150676      87   23.0           Ontario  \n",
       "150699      86   18.0           Ontario  \n",
       "150727      84   83.0           Ontario  \n",
       "\n",
       "[194 rows x 6 columns]"
      ]
     },
     "execution_count": 10,
     "metadata": {},
     "output_type": "execute_result"
    }
   ],
   "source": [
    "Canada=Canadac.dropna()\n",
    "Canada"
   ]
  },
  {
   "cell_type": "code",
   "execution_count": 11,
   "metadata": {},
   "outputs": [
    {
     "data": {
      "text/plain": [
       "(194, 6)"
      ]
     },
     "execution_count": 11,
     "metadata": {},
     "output_type": "execute_result"
    }
   ],
   "source": [
    "Canada.shape"
   ]
  },
  {
   "cell_type": "code",
   "execution_count": 12,
   "metadata": {
    "scrolled": false
   },
   "outputs": [
    {
     "data": {
      "text/plain": [
       "array(['British Columbia', 'Ontario', 'Canada Other'], dtype=object)"
      ]
     },
     "execution_count": 12,
     "metadata": {},
     "output_type": "execute_result"
    }
   ],
   "source": [
    "Canada.Province.unique()"
   ]
  },
  {
   "cell_type": "code",
   "execution_count": 13,
   "metadata": {
    "scrolled": false
   },
   "outputs": [
    {
     "data": {
      "text/html": [
       "<div>\n",
       "<style scoped>\n",
       "    .dataframe tbody tr th:only-of-type {\n",
       "        vertical-align: middle;\n",
       "    }\n",
       "\n",
       "    .dataframe tbody tr th {\n",
       "        vertical-align: top;\n",
       "    }\n",
       "\n",
       "    .dataframe thead th {\n",
       "        text-align: right;\n",
       "    }\n",
       "</style>\n",
       "<table border=\"1\" class=\"dataframe\">\n",
       "  <thead>\n",
       "    <tr style=\"text-align: right;\">\n",
       "      <th></th>\n",
       "      <th>ID</th>\n",
       "      <th>Country</th>\n",
       "      <th>Description</th>\n",
       "      <th>Points</th>\n",
       "      <th>Price</th>\n",
       "      <th>Province</th>\n",
       "    </tr>\n",
       "  </thead>\n",
       "  <tbody>\n",
       "    <tr>\n",
       "      <td>394</td>\n",
       "      <td>394</td>\n",
       "      <td>Canada</td>\n",
       "      <td>This Bordeaux-style blend is comprised of 44% ...</td>\n",
       "      <td>90</td>\n",
       "      <td>70.0</td>\n",
       "      <td>British Columbia</td>\n",
       "    </tr>\n",
       "    <tr>\n",
       "      <td>705</td>\n",
       "      <td>705</td>\n",
       "      <td>Canada</td>\n",
       "      <td>This comes in at 15g/L residual sugar, but it'...</td>\n",
       "      <td>90</td>\n",
       "      <td>24.0</td>\n",
       "      <td>British Columbia</td>\n",
       "    </tr>\n",
       "    <tr>\n",
       "      <td>714</td>\n",
       "      <td>714</td>\n",
       "      <td>Canada</td>\n",
       "      <td>Fresh and creamy, this delicious wine shows a ...</td>\n",
       "      <td>90</td>\n",
       "      <td>19.0</td>\n",
       "      <td>British Columbia</td>\n",
       "    </tr>\n",
       "    <tr>\n",
       "      <td>851</td>\n",
       "      <td>851</td>\n",
       "      <td>Canada</td>\n",
       "      <td>Smooth and engaging, this offers classic varie...</td>\n",
       "      <td>90</td>\n",
       "      <td>38.0</td>\n",
       "      <td>British Columbia</td>\n",
       "    </tr>\n",
       "    <tr>\n",
       "      <td>2824</td>\n",
       "      <td>2824</td>\n",
       "      <td>Canada</td>\n",
       "      <td>Included in the blend are small portions of Ca...</td>\n",
       "      <td>89</td>\n",
       "      <td>32.0</td>\n",
       "      <td>British Columbia</td>\n",
       "    </tr>\n",
       "    <tr>\n",
       "      <td>...</td>\n",
       "      <td>...</td>\n",
       "      <td>...</td>\n",
       "      <td>...</td>\n",
       "      <td>...</td>\n",
       "      <td>...</td>\n",
       "      <td>...</td>\n",
       "    </tr>\n",
       "    <tr>\n",
       "      <td>130479</td>\n",
       "      <td>130479</td>\n",
       "      <td>Canada</td>\n",
       "      <td>Author Heidi Noble (Menus From An Orchard Tabl...</td>\n",
       "      <td>89</td>\n",
       "      <td>22.0</td>\n",
       "      <td>British Columbia</td>\n",
       "    </tr>\n",
       "    <tr>\n",
       "      <td>139001</td>\n",
       "      <td>139001</td>\n",
       "      <td>Canada</td>\n",
       "      <td>Definitely has a personality all its own. Our ...</td>\n",
       "      <td>87</td>\n",
       "      <td>20.0</td>\n",
       "      <td>British Columbia</td>\n",
       "    </tr>\n",
       "    <tr>\n",
       "      <td>148384</td>\n",
       "      <td>148384</td>\n",
       "      <td>Canada</td>\n",
       "      <td>This wine looks like liquid sunshine and smell...</td>\n",
       "      <td>92</td>\n",
       "      <td>85.0</td>\n",
       "      <td>British Columbia</td>\n",
       "    </tr>\n",
       "    <tr>\n",
       "      <td>148408</td>\n",
       "      <td>148408</td>\n",
       "      <td>Canada</td>\n",
       "      <td>Rich and syrupy, this wine has plenty of acidi...</td>\n",
       "      <td>91</td>\n",
       "      <td>20.0</td>\n",
       "      <td>British Columbia</td>\n",
       "    </tr>\n",
       "    <tr>\n",
       "      <td>148494</td>\n",
       "      <td>148494</td>\n",
       "      <td>Canada</td>\n",
       "      <td>The nose explodes with oily aromas of dried ap...</td>\n",
       "      <td>90</td>\n",
       "      <td>60.0</td>\n",
       "      <td>British Columbia</td>\n",
       "    </tr>\n",
       "  </tbody>\n",
       "</table>\n",
       "<p>96 rows × 6 columns</p>\n",
       "</div>"
      ],
      "text/plain": [
       "            ID Country                                        Description  \\\n",
       "394        394  Canada  This Bordeaux-style blend is comprised of 44% ...   \n",
       "705        705  Canada  This comes in at 15g/L residual sugar, but it'...   \n",
       "714        714  Canada  Fresh and creamy, this delicious wine shows a ...   \n",
       "851        851  Canada  Smooth and engaging, this offers classic varie...   \n",
       "2824      2824  Canada  Included in the blend are small portions of Ca...   \n",
       "...        ...     ...                                                ...   \n",
       "130479  130479  Canada  Author Heidi Noble (Menus From An Orchard Tabl...   \n",
       "139001  139001  Canada  Definitely has a personality all its own. Our ...   \n",
       "148384  148384  Canada  This wine looks like liquid sunshine and smell...   \n",
       "148408  148408  Canada  Rich and syrupy, this wine has plenty of acidi...   \n",
       "148494  148494  Canada  The nose explodes with oily aromas of dried ap...   \n",
       "\n",
       "        Points  Price          Province  \n",
       "394         90   70.0  British Columbia  \n",
       "705         90   24.0  British Columbia  \n",
       "714         90   19.0  British Columbia  \n",
       "851         90   38.0  British Columbia  \n",
       "2824        89   32.0  British Columbia  \n",
       "...        ...    ...               ...  \n",
       "130479      89   22.0  British Columbia  \n",
       "139001      87   20.0  British Columbia  \n",
       "148384      92   85.0  British Columbia  \n",
       "148408      91   20.0  British Columbia  \n",
       "148494      90   60.0  British Columbia  \n",
       "\n",
       "[96 rows x 6 columns]"
      ]
     },
     "execution_count": 13,
     "metadata": {},
     "output_type": "execute_result"
    }
   ],
   "source": [
    "BC=reviews[reviews['Province']=='British Columbia']\n",
    "BC"
   ]
  },
  {
   "cell_type": "code",
   "execution_count": 14,
   "metadata": {
    "scrolled": false
   },
   "outputs": [
    {
     "data": {
      "text/html": [
       "<div>\n",
       "<style scoped>\n",
       "    .dataframe tbody tr th:only-of-type {\n",
       "        vertical-align: middle;\n",
       "    }\n",
       "\n",
       "    .dataframe tbody tr th {\n",
       "        vertical-align: top;\n",
       "    }\n",
       "\n",
       "    .dataframe thead th {\n",
       "        text-align: right;\n",
       "    }\n",
       "</style>\n",
       "<table border=\"1\" class=\"dataframe\">\n",
       "  <thead>\n",
       "    <tr style=\"text-align: right;\">\n",
       "      <th></th>\n",
       "      <th>ID</th>\n",
       "      <th>Country</th>\n",
       "      <th>Description</th>\n",
       "      <th>Points</th>\n",
       "      <th>Price</th>\n",
       "      <th>Province</th>\n",
       "    </tr>\n",
       "  </thead>\n",
       "  <tbody>\n",
       "    <tr>\n",
       "      <td>517</td>\n",
       "      <td>517</td>\n",
       "      <td>Canada</td>\n",
       "      <td>Coming from vines ranging in age from 9–39 yea...</td>\n",
       "      <td>92</td>\n",
       "      <td>17.0</td>\n",
       "      <td>Ontario</td>\n",
       "    </tr>\n",
       "    <tr>\n",
       "      <td>2546</td>\n",
       "      <td>2546</td>\n",
       "      <td>Canada</td>\n",
       "      <td>A vibrantly aromatic wine, with notes of petro...</td>\n",
       "      <td>91</td>\n",
       "      <td>30.0</td>\n",
       "      <td>Ontario</td>\n",
       "    </tr>\n",
       "    <tr>\n",
       "      <td>2893</td>\n",
       "      <td>2893</td>\n",
       "      <td>Canada</td>\n",
       "      <td>A very aromatic wine, showing notes of orange ...</td>\n",
       "      <td>91</td>\n",
       "      <td>60.0</td>\n",
       "      <td>Ontario</td>\n",
       "    </tr>\n",
       "    <tr>\n",
       "      <td>3866</td>\n",
       "      <td>3866</td>\n",
       "      <td>Canada</td>\n",
       "      <td>This is an aromatic dazzler, with notes of her...</td>\n",
       "      <td>90</td>\n",
       "      <td>15.0</td>\n",
       "      <td>Ontario</td>\n",
       "    </tr>\n",
       "    <tr>\n",
       "      <td>5228</td>\n",
       "      <td>5228</td>\n",
       "      <td>Canada</td>\n",
       "      <td>A detailed wine, with notes of wet slate, apri...</td>\n",
       "      <td>90</td>\n",
       "      <td>25.0</td>\n",
       "      <td>Ontario</td>\n",
       "    </tr>\n",
       "    <tr>\n",
       "      <td>...</td>\n",
       "      <td>...</td>\n",
       "      <td>...</td>\n",
       "      <td>...</td>\n",
       "      <td>...</td>\n",
       "      <td>...</td>\n",
       "      <td>...</td>\n",
       "    </tr>\n",
       "    <tr>\n",
       "      <td>150639</td>\n",
       "      <td>150639</td>\n",
       "      <td>Canada</td>\n",
       "      <td>Shows ample evidence of botrytis on the aprico...</td>\n",
       "      <td>88</td>\n",
       "      <td>30.0</td>\n",
       "      <td>Ontario</td>\n",
       "    </tr>\n",
       "    <tr>\n",
       "      <td>150644</td>\n",
       "      <td>150644</td>\n",
       "      <td>Canada</td>\n",
       "      <td>Vidal has a peculiar bouquet that I have a har...</td>\n",
       "      <td>87</td>\n",
       "      <td>25.0</td>\n",
       "      <td>Ontario</td>\n",
       "    </tr>\n",
       "    <tr>\n",
       "      <td>150676</td>\n",
       "      <td>150676</td>\n",
       "      <td>Canada</td>\n",
       "      <td>Peaches and pears, lemons and grapefruits come...</td>\n",
       "      <td>87</td>\n",
       "      <td>23.0</td>\n",
       "      <td>Ontario</td>\n",
       "    </tr>\n",
       "    <tr>\n",
       "      <td>150699</td>\n",
       "      <td>150699</td>\n",
       "      <td>Canada</td>\n",
       "      <td>Smells oily, with a diesel-fuel note that some...</td>\n",
       "      <td>86</td>\n",
       "      <td>18.0</td>\n",
       "      <td>Ontario</td>\n",
       "    </tr>\n",
       "    <tr>\n",
       "      <td>150727</td>\n",
       "      <td>150727</td>\n",
       "      <td>Canada</td>\n",
       "      <td>A real oddball that's musky, melony, sweet and...</td>\n",
       "      <td>84</td>\n",
       "      <td>83.0</td>\n",
       "      <td>Ontario</td>\n",
       "    </tr>\n",
       "  </tbody>\n",
       "</table>\n",
       "<p>96 rows × 6 columns</p>\n",
       "</div>"
      ],
      "text/plain": [
       "            ID Country                                        Description  \\\n",
       "517        517  Canada  Coming from vines ranging in age from 9–39 yea...   \n",
       "2546      2546  Canada  A vibrantly aromatic wine, with notes of petro...   \n",
       "2893      2893  Canada  A very aromatic wine, showing notes of orange ...   \n",
       "3866      3866  Canada  This is an aromatic dazzler, with notes of her...   \n",
       "5228      5228  Canada  A detailed wine, with notes of wet slate, apri...   \n",
       "...        ...     ...                                                ...   \n",
       "150639  150639  Canada  Shows ample evidence of botrytis on the aprico...   \n",
       "150644  150644  Canada  Vidal has a peculiar bouquet that I have a har...   \n",
       "150676  150676  Canada  Peaches and pears, lemons and grapefruits come...   \n",
       "150699  150699  Canada  Smells oily, with a diesel-fuel note that some...   \n",
       "150727  150727  Canada  A real oddball that's musky, melony, sweet and...   \n",
       "\n",
       "        Points  Price Province  \n",
       "517         92   17.0  Ontario  \n",
       "2546        91   30.0  Ontario  \n",
       "2893        91   60.0  Ontario  \n",
       "3866        90   15.0  Ontario  \n",
       "5228        90   25.0  Ontario  \n",
       "...        ...    ...      ...  \n",
       "150639      88   30.0  Ontario  \n",
       "150644      87   25.0  Ontario  \n",
       "150676      87   23.0  Ontario  \n",
       "150699      86   18.0  Ontario  \n",
       "150727      84   83.0  Ontario  \n",
       "\n",
       "[96 rows x 6 columns]"
      ]
     },
     "execution_count": 14,
     "metadata": {},
     "output_type": "execute_result"
    }
   ],
   "source": [
    "Ontario=reviews[reviews['Province']=='Ontario']\n",
    "Ontario"
   ]
  },
  {
   "cell_type": "code",
   "execution_count": 15,
   "metadata": {
    "scrolled": false
   },
   "outputs": [
    {
     "data": {
      "text/html": [
       "<div>\n",
       "<style scoped>\n",
       "    .dataframe tbody tr th:only-of-type {\n",
       "        vertical-align: middle;\n",
       "    }\n",
       "\n",
       "    .dataframe tbody tr th {\n",
       "        vertical-align: top;\n",
       "    }\n",
       "\n",
       "    .dataframe thead th {\n",
       "        text-align: right;\n",
       "    }\n",
       "</style>\n",
       "<table border=\"1\" class=\"dataframe\">\n",
       "  <thead>\n",
       "    <tr style=\"text-align: right;\">\n",
       "      <th></th>\n",
       "      <th>ID</th>\n",
       "      <th>Country</th>\n",
       "      <th>Description</th>\n",
       "      <th>Points</th>\n",
       "      <th>Price</th>\n",
       "      <th>Province</th>\n",
       "    </tr>\n",
       "  </thead>\n",
       "  <tbody>\n",
       "    <tr>\n",
       "      <td>108089</td>\n",
       "      <td>108089</td>\n",
       "      <td>Canada</td>\n",
       "      <td>A beautiful Quebec classic ice cider, with vib...</td>\n",
       "      <td>90</td>\n",
       "      <td>35.0</td>\n",
       "      <td>Canada Other</td>\n",
       "    </tr>\n",
       "    <tr>\n",
       "      <td>108342</td>\n",
       "      <td>108342</td>\n",
       "      <td>Canada</td>\n",
       "      <td>With over 80 apples used to produce each bottl...</td>\n",
       "      <td>89</td>\n",
       "      <td>33.0</td>\n",
       "      <td>Canada Other</td>\n",
       "    </tr>\n",
       "    <tr>\n",
       "      <td>120929</td>\n",
       "      <td>120929</td>\n",
       "      <td>Canada</td>\n",
       "      <td>A beautiful Quebec classic ice cider, with vib...</td>\n",
       "      <td>90</td>\n",
       "      <td>35.0</td>\n",
       "      <td>Canada Other</td>\n",
       "    </tr>\n",
       "    <tr>\n",
       "      <td>121242</td>\n",
       "      <td>121242</td>\n",
       "      <td>Canada</td>\n",
       "      <td>With over 80 apples used to produce each bottl...</td>\n",
       "      <td>89</td>\n",
       "      <td>33.0</td>\n",
       "      <td>Canada Other</td>\n",
       "    </tr>\n",
       "  </tbody>\n",
       "</table>\n",
       "</div>"
      ],
      "text/plain": [
       "            ID Country                                        Description  \\\n",
       "108089  108089  Canada  A beautiful Quebec classic ice cider, with vib...   \n",
       "108342  108342  Canada  With over 80 apples used to produce each bottl...   \n",
       "120929  120929  Canada  A beautiful Quebec classic ice cider, with vib...   \n",
       "121242  121242  Canada  With over 80 apples used to produce each bottl...   \n",
       "\n",
       "        Points  Price      Province  \n",
       "108089      90   35.0  Canada Other  \n",
       "108342      89   33.0  Canada Other  \n",
       "120929      90   35.0  Canada Other  \n",
       "121242      89   33.0  Canada Other  "
      ]
     },
     "execution_count": 15,
     "metadata": {},
     "output_type": "execute_result"
    }
   ],
   "source": [
    "other=reviews[reviews['Province']=='Canada Other']\n",
    "other"
   ]
  },
  {
   "cell_type": "code",
   "execution_count": 16,
   "metadata": {},
   "outputs": [
    {
     "data": {
      "text/plain": [
       "394       90\n",
       "517       92\n",
       "705       90\n",
       "714       90\n",
       "851       90\n",
       "          ..\n",
       "150639    88\n",
       "150644    87\n",
       "150676    87\n",
       "150699    86\n",
       "150727    84\n",
       "Name: Points, Length: 196, dtype: int64"
      ]
     },
     "execution_count": 16,
     "metadata": {},
     "output_type": "execute_result"
    }
   ],
   "source": [
    "Canada_vs_Points=reviews.loc[reviews.Country=='Canada'].Points\n",
    "Canada_vs_Points"
   ]
  },
  {
   "cell_type": "code",
   "execution_count": 17,
   "metadata": {},
   "outputs": [
    {
     "data": {
      "text/plain": [
       "394       70.0\n",
       "517       17.0\n",
       "705       24.0\n",
       "714       19.0\n",
       "851       38.0\n",
       "          ... \n",
       "150639    30.0\n",
       "150644    25.0\n",
       "150676    23.0\n",
       "150699    18.0\n",
       "150727    83.0\n",
       "Name: Price, Length: 196, dtype: float64"
      ]
     },
     "execution_count": 17,
     "metadata": {},
     "output_type": "execute_result"
    }
   ],
   "source": [
    "Canada_vs_Price=reviews.loc[reviews.Country=='Canada'].Price\n",
    "Canada_vs_Price"
   ]
  },
  {
   "cell_type": "code",
   "execution_count": 18,
   "metadata": {},
   "outputs": [
    {
     "data": {
      "text/plain": [
       "count    194.000000\n",
       "mean      88.221649\n",
       "std        2.474187\n",
       "min       82.000000\n",
       "25%       87.000000\n",
       "50%       88.000000\n",
       "75%       90.000000\n",
       "max       93.000000\n",
       "Name: Points, dtype: float64"
      ]
     },
     "execution_count": 18,
     "metadata": {},
     "output_type": "execute_result"
    }
   ],
   "source": [
    "Canada['Points'].describe()"
   ]
  },
  {
   "cell_type": "code",
   "execution_count": 19,
   "metadata": {
    "scrolled": true
   },
   "outputs": [
    {
     "data": {
      "text/plain": [
       "count    194.000000\n",
       "mean      34.628866\n",
       "std       24.267644\n",
       "min       12.000000\n",
       "25%       19.000000\n",
       "50%       25.000000\n",
       "75%       40.000000\n",
       "max      145.000000\n",
       "Name: Price, dtype: float64"
      ]
     },
     "execution_count": 19,
     "metadata": {},
     "output_type": "execute_result"
    }
   ],
   "source": [
    "Canada['Price'].describe()"
   ]
  },
  {
   "cell_type": "code",
   "execution_count": 20,
   "metadata": {
    "scrolled": true
   },
   "outputs": [
    {
     "data": {
      "text/html": [
       "<div>\n",
       "<style scoped>\n",
       "    .dataframe tbody tr th:only-of-type {\n",
       "        vertical-align: middle;\n",
       "    }\n",
       "\n",
       "    .dataframe tbody tr th {\n",
       "        vertical-align: top;\n",
       "    }\n",
       "\n",
       "    .dataframe thead th {\n",
       "        text-align: right;\n",
       "    }\n",
       "</style>\n",
       "<table border=\"1\" class=\"dataframe\">\n",
       "  <thead>\n",
       "    <tr style=\"text-align: right;\">\n",
       "      <th></th>\n",
       "      <th>ID</th>\n",
       "      <th>Points</th>\n",
       "      <th>Price</th>\n",
       "    </tr>\n",
       "  </thead>\n",
       "  <tbody>\n",
       "    <tr>\n",
       "      <td>ID</td>\n",
       "      <td>1.000000</td>\n",
       "      <td>-0.197933</td>\n",
       "      <td>0.123013</td>\n",
       "    </tr>\n",
       "    <tr>\n",
       "      <td>Points</td>\n",
       "      <td>-0.197933</td>\n",
       "      <td>1.000000</td>\n",
       "      <td>0.287012</td>\n",
       "    </tr>\n",
       "    <tr>\n",
       "      <td>Price</td>\n",
       "      <td>0.123013</td>\n",
       "      <td>0.287012</td>\n",
       "      <td>1.000000</td>\n",
       "    </tr>\n",
       "  </tbody>\n",
       "</table>\n",
       "</div>"
      ],
      "text/plain": [
       "              ID    Points     Price\n",
       "ID      1.000000 -0.197933  0.123013\n",
       "Points -0.197933  1.000000  0.287012\n",
       "Price   0.123013  0.287012  1.000000"
      ]
     },
     "execution_count": 20,
     "metadata": {},
     "output_type": "execute_result"
    }
   ],
   "source": [
    "Canada.corr()"
   ]
  },
  {
   "cell_type": "code",
   "execution_count": 21,
   "metadata": {
    "scrolled": true
   },
   "outputs": [
    {
     "data": {
      "text/html": [
       "<div>\n",
       "<style scoped>\n",
       "    .dataframe tbody tr th:only-of-type {\n",
       "        vertical-align: middle;\n",
       "    }\n",
       "\n",
       "    .dataframe tbody tr th {\n",
       "        vertical-align: top;\n",
       "    }\n",
       "\n",
       "    .dataframe thead th {\n",
       "        text-align: right;\n",
       "    }\n",
       "</style>\n",
       "<table border=\"1\" class=\"dataframe\">\n",
       "  <thead>\n",
       "    <tr style=\"text-align: right;\">\n",
       "      <th></th>\n",
       "      <th>ID</th>\n",
       "      <th>Points</th>\n",
       "      <th>Price</th>\n",
       "    </tr>\n",
       "  </thead>\n",
       "  <tbody>\n",
       "    <tr>\n",
       "      <td>ID</td>\n",
       "      <td>2.237310e+09</td>\n",
       "      <td>-23163.980049</td>\n",
       "      <td>141201.943700</td>\n",
       "    </tr>\n",
       "    <tr>\n",
       "      <td>Points</td>\n",
       "      <td>-2.316398e+04</td>\n",
       "      <td>6.121601</td>\n",
       "      <td>17.232947</td>\n",
       "    </tr>\n",
       "    <tr>\n",
       "      <td>Price</td>\n",
       "      <td>1.412019e+05</td>\n",
       "      <td>17.232947</td>\n",
       "      <td>588.918541</td>\n",
       "    </tr>\n",
       "  </tbody>\n",
       "</table>\n",
       "</div>"
      ],
      "text/plain": [
       "                  ID        Points          Price\n",
       "ID      2.237310e+09 -23163.980049  141201.943700\n",
       "Points -2.316398e+04      6.121601      17.232947\n",
       "Price   1.412019e+05     17.232947     588.918541"
      ]
     },
     "execution_count": 21,
     "metadata": {},
     "output_type": "execute_result"
    }
   ],
   "source": [
    "Canada.cov()"
   ]
  },
  {
   "cell_type": "markdown",
   "metadata": {},
   "source": [
    "### MATPLOTLIB"
   ]
  },
  {
   "cell_type": "markdown",
   "metadata": {},
   "source": [
    "### Datos Univariantes"
   ]
  },
  {
   "cell_type": "code",
   "execution_count": 22,
   "metadata": {
    "scrolled": true
   },
   "outputs": [
    {
     "data": {
      "text/plain": [
       "<matplotlib.axes._subplots.AxesSubplot at 0x1be891c9048>"
      ]
     },
     "execution_count": 22,
     "metadata": {},
     "output_type": "execute_result"
    },
    {
     "data": {
      "image/png": "[encoded data removed]",
      "text/plain": [
       "<Figure size 432x288 with 1 Axes>"
      ]
     },
     "metadata": {
      "needs_background": "light"
     },
     "output_type": "display_data"
    }
   ],
   "source": [
    "Canada['Points'].value_counts().sort_index().plot.line(color='green')"
   ]
  },
  {
   "cell_type": "markdown",
   "metadata": {},
   "source": [
    "### Datos Bivariantes"
   ]
  },
  {
   "cell_type": "code",
   "execution_count": 23,
   "metadata": {},
   "outputs": [
    {
     "data": {
      "text/plain": [
       "<matplotlib.axes._subplots.AxesSubplot at 0x1be8ef5a5c8>"
      ]
     },
     "execution_count": 23,
     "metadata": {},
     "output_type": "execute_result"
    },
    {
     "data": {
      "image/png": "[encoded data removed]",
      "text/plain": [
       "<Figure size 432x288 with 1 Axes>"
      ]
     },
     "metadata": {
      "needs_background": "light"
     },
     "output_type": "display_data"
    }
   ],
   "source": [
    "Canada[Canada['Price']<150].plot.scatter(x='Price', y='Points',color='skyblue')"
   ]
  },
  {
   "cell_type": "markdown",
   "metadata": {},
   "source": [
    "## SEABORN"
   ]
  },
  {
   "cell_type": "markdown",
   "metadata": {},
   "source": [
    "### KDE"
   ]
  },
  {
   "cell_type": "code",
   "execution_count": 24,
   "metadata": {},
   "outputs": [
    {
     "data": {
      "text/plain": [
       "<matplotlib.axes._subplots.AxesSubplot at 0x1be8f241d48>"
      ]
     },
     "execution_count": 24,
     "metadata": {},
     "output_type": "execute_result"
    },
    {
     "data": {
      "image/png": "[encoded data removed]",
      "text/plain": [
       "<Figure size 432x288 with 1 Axes>"
      ]
     },
     "metadata": {
      "needs_background": "light"
     },
     "output_type": "display_data"
    }
   ],
   "source": [
    "sns.countplot(Canada['Points'])"
   ]
  },
  {
   "cell_type": "markdown",
   "metadata": {},
   "source": [
    "### Joint Plots"
   ]
  },
  {
   "cell_type": "code",
   "execution_count": 25,
   "metadata": {
    "scrolled": false
   },
   "outputs": [
    {
     "data": {
      "text/plain": [
       "<seaborn.axisgrid.JointGrid at 0x1be8f2d8a48>"
      ]
     },
     "execution_count": 25,
     "metadata": {},
     "output_type": "execute_result"
    },
    {
     "data": {
      "image/png": "[encoded data removed]",
      "text/plain": [
       "<Figure size 432x432 with 3 Axes>"
      ]
     },
     "metadata": {
      "needs_background": "light"
     },
     "output_type": "display_data"
    }
   ],
   "source": [
    "sns.jointplot(x='Price', y='Points', data=Canada[Canada['Price'] < 150],kind='hex',gridsize=15)"
   ]
  },
  {
   "cell_type": "markdown",
   "metadata": {},
   "source": [
    "### Box Plot"
   ]
  },
  {
   "cell_type": "code",
   "execution_count": 26,
   "metadata": {},
   "outputs": [
    {
     "data": {
      "text/plain": [
       "<matplotlib.axes._subplots.AxesSubplot at 0x1be8f448e48>"
      ]
     },
     "execution_count": 26,
     "metadata": {},
     "output_type": "execute_result"
    },
    {
     "data": {
      "image/png": "[encoded data removed]",
      "text/plain": [
       "<Figure size 432x288 with 1 Axes>"
      ]
     },
     "metadata": {
      "needs_background": "light"
     },
     "output_type": "display_data"
    }
   ],
   "source": [
    "CWR=Canada[Canada.Province.isin(Canada.Province.value_counts().index)]\n",
    "sns.boxplot(x='Province',y='Points',data=CWR)"
   ]
  },
  {
   "cell_type": "markdown",
   "metadata": {},
   "source": [
    "# WINE REVIEWS\n",
    "\n",
    "## LOS DATOS\n",
    "En la base de datos se presentan las reseñas de 150930 vinos de distintas partes del mundo. En la información cualitativa hay variablesque toman en cuenta la región, la provincia y la nacionalidad del producto, asi como sus punto de venta, la designación y una breve descripción del mismo. En la parte cuantitativa, las variables se toman de la evaluación del producto o cantidad de puntos obtenidos de 100 y su precio en dólares.\n",
    "\n",
    "\n",
    "## Preparando los datos\n",
    "Primero tenemos que considerar variables y secciones a evaluar.\n",
    "En este caso en particular, se decidio eliminar las variables respecto a las regioness, la designación del vino y los puntos de venta; esto debido a que son datos extra que realmente no afectarian nuestras estadísticas.\n",
    "En la parte geografíca ya contamos lo que es nacionalidad y provincia, por lo que tener regiones y puntos de ventas solo serviría para reducir más nuestra la muestra que evaluaremos, la cual corresponde a la producción en Cánada.\n",
    "En Cánada se producen 196 vinos diferentes, y se cuentan con tres provincias viñeras: En British Columbia se producen 96 variedades, en Ontario otras 96, sin embargo dos no estan etiquetadas con el precio, y en otra provincia estan registradas otros cuatro productos.\n",
    "\n",
    "\n",
    "## Visualización de datos\n",
    "### Información Estadística Básica\n",
    "Realizamos estadisticas en el puntaje y el precio de los vinos canadiences\n",
    " #### Points\n",
    "    count    194.000000\n",
    "    mean      88.221649\n",
    "    std        2.474187\n",
    "    var        6.121601\n",
    "    min       82.000000\n",
    "    25%       87.000000\n",
    "    50%       88.000000\n",
    "    75%       90.000000\n",
    "    max       93.000000\n",
    " #### Price\n",
    "    count    194.000000\n",
    "    mean      34.628866\n",
    "    std       24.267644\n",
    "    var      588.918540\n",
    "    min       12.000000\n",
    "    25%       19.000000\n",
    "    50%       25.000000\n",
    "    75%       40.000000\n",
    "    max      145.000000\n",
    " #### Points vs Price\n",
    "    Correlación 0.287012\n",
    "    Covarianza 17.232947\n",
    "### MATPLOTLIB\n",
    "#### Gráficar datos univariantes \n",
    "En el primer gráfico podemos visualizar cuantos vinos cuentan con tantos puntos, de igual manera se puede ver la misma información en un gráfico de barras. La diferencia entre ambos gráficos consta en forma de visualizarse, ahí se aprecia una línea continua conectado los puntos centricos superiores que se obtiene en el gráfico de barras. Tenemos que el pico muestra el punto más alto, el cual es cercano a 90. Por ende, determinamos que la mayoría de los vinos en Cánada reciben un porcentaje aproximado a 90, dicho valor se comprueba al revisar la mediana en la evaluación estadística. De igual manera, en un gráfico de barras tomaría el valor de la barra más alta, la cual coincide en este caso, debido a que nuestras variables son las mismas.\n",
    "#### Gráficar datos bivariantes\n",
    "En la gráfica de scatter  nos muestra que el precio y los puntos no estan muy realcionados. La interpretación que se le podría dar es que en Cánada los vinos que obtinene mejor puntaje en sus reseñas suelen ser baratos.\n",
    "HTomemos en cuenta que solo estamos contemplando Cánada, no quiere decir que sea la misma conclusión para todos los vinos presentados en el mundo. Es posible que en Italia, EU o Francia por ejemplo sea lo opuesto, que entre más caro el vino mejor puntaje obtendrá.\n",
    "\n",
    "### SEABORN\n",
    "##### Joint Plot\n",
    "Con el Joint plot confirmamos nuestra conclusión anterior (Gráficas bivariantes) acerca de la relación entre los puntos que obtiene el vino en sus reseñas y su precio, ya que gracias a las graficas que se forman en los ejes se presenta de manera individual su valor estimado por medio de un gráfico de barras, lo cual nos facilita más la interpretación del gráfico seleccionado.\n",
    "##### Box Plot\n",
    "En los gráficos de cajas podemos hacer interpretaciones sobre nuestra media, así como nuestros cuartiles. Se aprecia en el caso de la provincia de British Columbia una distribución uniforme ademas de que son los vinos que suelen obtener mejor puntaje entre nuestra muestra seleccionada. En el caso de la provincia de Ontario vemos que su media no se aproxima a la mediana de los puntajes, de hecho esta por debajo de ella, esto debido a que los puntajes son más variados que en las otras dos provincias. En la otra provincia los datos son mínimos por ende al compararlos con las otras dos sus cuartiles dificilmente se visualizaron, sin embargo al igual que en la primer provincia su distribucion es uniforme.\n",
    "\n",
    "\n",
    "\n",
    "## Preguntas\n",
    "1.- El gráfico representa el puntaje que pueden tener los vinos (X)  contra la cantidad de vinos que recibieron ese puntaje (Y).\n",
    "\n",
    "\n",
    "\n",
    "\n",
    "## Tareas Opcionales\n",
    "    - Realizar una comparacion entre scatter plot y hexplot. Cual es mejor en cual caso y explicar porque.\n",
    "    Siento que la comparación principal entre los dos es el uso que se le da porque a simple vista se muestran igual los datos, y así es sin embargo al momento de realizar la interpretación uno puede ser más útil que le otro. A mi parecer, el Scatter Plot tiene una interpretación más enfocada a la relación de los datos se dice que si X es tal, entonces Y tomará el siguiente valor; en el caso del HexPlot, le veo más uso a la frecuencia con la que datos coincidentes se repitan, es decir, entre más vinos de X precio tengan Y puntuación el hexágono será más oscuro.\n",
    "    - Relacionar al menos 4 graficas con los diferentes tipos de datos con los que se especializa para trabajar (ordinales, nominales, etc.)\n",
    "    "
   ]
  }
 ],
 "metadata": {
  "kernelspec": {
   "display_name": "Python 3",
   "language": "python",
   "name": "python3"
  },
  "language_info": {
   "codemirror_mode": {
    "name": "ipython",
    "version": 3
   },
   "file_extension": ".py",
   "mimetype": "text/x-python",
   "name": "python",
   "nbconvert_exporter": "python",
   "pygments_lexer": "ipython3",
   "version": "3.7.4"
  }
 },
 "nbformat": 4,
 "nbformat_minor": 2
}
