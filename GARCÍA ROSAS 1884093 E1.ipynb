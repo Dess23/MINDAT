{
 "cells": [
  {
   "cell_type": "markdown",
   "metadata": {},
   "source": [
    "# Examen 2: Ejercicios de Python.\n"
   ]
  },
  {
   "cell_type": "markdown",
   "metadata": {},
   "source": [
    "Al momento de responder las preguntas, cerciorense de que les imprima el resultado. "
   ]
  },
  {
   "cell_type": "markdown",
   "metadata": {},
   "source": [
    "### 1.- Dando lista A = [3, 2, 7, 4, 12, 9, 6, 1] desarrolla los siguientes 3 ejercicios.\n",
    "\n",
    "- Imprime la sumatoria de todos los elementos.\n",
    "- Ordenalos de mayor a menor.\n",
    "- Haz una nueva lista pero solo con sus elementos pares."
   ]
  },
  {
   "cell_type": "code",
   "execution_count": 1,
   "metadata": {},
   "outputs": [
    {
     "data": {
      "text/plain": [
       "[3, 2, 7, 4, 12, 9, 6, 1]"
      ]
     },
     "execution_count": 1,
     "metadata": {},
     "output_type": "execute_result"
    }
   ],
   "source": [
    "A=[3, 2, 7, 4, 12, 9, 6, 1]\n",
    "A"
   ]
  },
  {
   "cell_type": "code",
   "execution_count": 2,
   "metadata": {},
   "outputs": [
    {
     "name": "stdout",
     "output_type": "stream",
     "text": [
      "44\n"
     ]
    }
   ],
   "source": [
    "#(Puntos 5)\n",
    "# Imprime la sumatoria de todos los elementos en a = [3, 2, 7, 4, 12, 9, 6, 1].\n",
    "def sumalista(A):\n",
    "    Suma=0\n",
    "    for i in A:\n",
    "        Suma=Suma+i\n",
    "    return Suma\n",
    "print(sumalista(A))"
   ]
  },
  {
   "cell_type": "code",
   "execution_count": 3,
   "metadata": {},
   "outputs": [
    {
     "data": {
      "text/plain": [
       "[12, 9, 7, 6, 4, 3, 2, 1]"
      ]
     },
     "execution_count": 3,
     "metadata": {},
     "output_type": "execute_result"
    }
   ],
   "source": [
    "#(Puntos 10)\n",
    "# Ordenalos de mayor a menor\n",
    "sorted(A,reverse=True)"
   ]
  },
  {
   "cell_type": "code",
   "execution_count": 4,
   "metadata": {},
   "outputs": [
    {
     "data": {
      "text/plain": [
       "[2, 4, 12, 6]"
      ]
     },
     "execution_count": 4,
     "metadata": {},
     "output_type": "execute_result"
    }
   ],
   "source": [
    "#(Puntos 10)\n",
    "# Haz una nueva lista pero solo con sus elementos pares\n",
    "listapares=[]\n",
    "for x in A:\n",
    "    if x % 2 == 0:\n",
    "        listapares.append(x)\n",
    "listapares"
   ]
  },
  {
   "cell_type": "markdown",
   "metadata": {},
   "source": [
    "### 2.- Dale valor a dos variables y realiza 5 funciones que regresen como resultado diferentes operaciones aritmeticas (suma, resta, etc...). "
   ]
  },
  {
   "cell_type": "code",
   "execution_count": 5,
   "metadata": {},
   "outputs": [
    {
     "name": "stdout",
     "output_type": "stream",
     "text": [
      "650\n",
      "600\n",
      "15625\n",
      "25.0\n",
      "5.0\n"
     ]
    }
   ],
   "source": [
    "#(Puntos 15)\n",
    "a,b=25,625\n",
    "print(a+b)\n",
    "print (b-a)\n",
    "print(a*b)\n",
    "print(b/a)\n",
    "print(a**(1/2))"
   ]
  },
  {
   "cell_type": "markdown",
   "metadata": {},
   "source": [
    "### 3.- Dada la lista A = [3, 2, 7, 4, 12, 9, 6, 1] y lista B = [13, 16, 21, 34, 18, 17, 11, 10] crea una lista nueva que contenga solo los datos impares de ambas listas."
   ]
  },
  {
   "cell_type": "code",
   "execution_count": 6,
   "metadata": {},
   "outputs": [
    {
     "data": {
      "text/plain": [
       "[3, 7, 9, 1, 13, 21, 17, 11]"
      ]
     },
     "execution_count": 6,
     "metadata": {},
     "output_type": "execute_result"
    }
   ],
   "source": [
    "#(Puntos 15)\n",
    "A,B=[3, 2, 7, 4, 12, 9, 6, 1],[13, 16, 21, 34, 18, 17, 11, 10]\n",
    "C=[]\n",
    "for x in A:\n",
    "    if x % 2 != 0: \n",
    "        C.append(x)   \n",
    "for y in B:\n",
    "    if y % 2 !=0:\n",
    "        C.append(y)\n",
    "C"
   ]
  },
  {
   "cell_type": "markdown",
   "metadata": {},
   "source": [
    "### 4.- Dadas las variables W = 11, X = 17, Y = 32, Z = 65, crea una función que clasifique por grupos de edad (niño, adolecente, adulto, adulto mayor. (Utiliza el elif)"
   ]
  },
  {
   "cell_type": "code",
   "execution_count": 7,
   "metadata": {},
   "outputs": [
    {
     "name": "stdout",
     "output_type": "stream",
     "text": [
      "11 corresponde a la edad de un niño\n",
      "17 corresponde a la edad de un adolescente\n",
      "32 corresponde a la edad de un adulto\n",
      "65 corresponde a la edad de un adulto mayor\n"
     ]
    }
   ],
   "source": [
    "#(Puntos 15)\n",
    "W,X,Y,Z=11,17,32,65\n",
    "if 0<=W<=15:\n",
    "    s=\"niño\"\n",
    "elif 15<=W<=30:\n",
    "    s=\"adolescente\"\n",
    "elif 30<=W<=45:\n",
    "    s=\"adulto\"\n",
    "else:\n",
    "    s=\"adulto mayor\"\n",
    "print(W, 'corresponde a la edad de un',s)\n",
    "\n",
    "if 0<=X<=15:\n",
    "    s=\"niño\"\n",
    "elif 15<=X<=30:\n",
    "    s=\"adolescente\"\n",
    "elif 30<=X<=45:\n",
    "    s=\"adulto\"\n",
    "else:\n",
    "    s=\"adulto mayor\"\n",
    "print(X, 'corresponde a la edad de un',s)\n",
    "\n",
    "if 0<=Y<=15:\n",
    "    s=\"niño\"\n",
    "elif 15<=Y<=30:\n",
    "    s=\"adolescente\"\n",
    "elif 30<=Y<=45:\n",
    "    s=\"adulto\"\n",
    "else:\n",
    "    s=\"adulto mayor\"\n",
    "print(Y, 'corresponde a la edad de un',s)\n",
    "\n",
    "if 0<=Z<=15:\n",
    "    s=\"niño\"\n",
    "elif 15<=Z<=30:\n",
    "    s=\"adolescente\"\n",
    "elif 30<=Z<=45:\n",
    "    s=\"adulto\"\n",
    "else:\n",
    "    s=\"adulto mayor\"\n",
    "print(Z, 'corresponde a la edad de un',s)"
   ]
  },
  {
   "cell_type": "markdown",
   "metadata": {},
   "source": [
    "### 5.- Utilizando cualquiera de las condicionales (for, if, while...) imprime los siguientes patrones tal y como aparecen en el comentario, respetando los espacios y los saltos de renglon.\n"
   ]
  },
  {
   "cell_type": "code",
   "execution_count": 8,
   "metadata": {},
   "outputs": [
    {
     "name": "stdout",
     "output_type": "stream",
     "text": [
      "1\n",
      "2\n",
      "3\n",
      "4\n",
      "5\n",
      "2\n",
      "3\n",
      "4\n",
      "5\n",
      "3\n",
      "4\n",
      "5\n",
      "4\n",
      "5\n",
      "5\n"
     ]
    }
   ],
   "source": [
    "#(Puntos 10)\n",
    "#1 \n",
    "#2 2\n",
    "#3 3 3\n",
    "#4 4 4 4\n",
    "#5 5 5 5 5\n",
    "\n",
    "i=5\n",
    "n=0 \n",
    "while n<=i:\n",
    "    n=n+1\n",
    "    fila=n\n",
    " \n",
    "    while (fila<=i):\n",
    "        print(fila,)\n",
    "        fila=fila+1"
   ]
  },
  {
   "cell_type": "code",
   "execution_count": 10,
   "metadata": {},
   "outputs": [
    {
     "name": "stdout",
     "output_type": "stream",
     "text": [
      "5\n",
      "\t\n",
      "4\n",
      "\t\n",
      "3\n",
      "\t\n",
      "2\n",
      "\t\n",
      "1\n",
      "\t\n"
     ]
    }
   ],
   "source": [
    "#(Puntos 15)\n",
    "#5 4 3 2 1 \n",
    "#4 3 2 1\n",
    "#3 2 1 \n",
    "#2 1\n",
    "#1\n",
    "\n",
    "i=5\n",
    "n=1\n",
    "while n<=i:\n",
    "    fila=i\n",
    " \n",
    "    while (fila<i):\n",
    "        print (fila)\n",
    "        fila=fila+1\n",
    "    print (i)\n",
    "    i=i-1\n",
    "    print('\\t')"
   ]
  },
  {
   "cell_type": "markdown",
   "metadata": {},
   "source": [
    "### 6.- Con la lista A = [3, 2, 7, 4, 12, 9, 6, 1] y el uso de condicionales, imprime una nueva lista con cada uno de los elementos de la lista A, al cuadrado."
   ]
  },
  {
   "cell_type": "code",
   "execution_count": 11,
   "metadata": {},
   "outputs": [
    {
     "name": "stdout",
     "output_type": "stream",
     "text": [
      "[9, 4, 49, 16, 144, 81, 36, 1]\n"
     ]
    }
   ],
   "source": [
    "#(Puntos 10)\n",
    "A=[3, 2, 7, 4, 12, 9, 6, 1]\n",
    "\n",
    "listacuadrados=[]\n",
    "\n",
    "for x in A:\n",
    "    listacuadrados.append(x**2)\n",
    "\n",
    "print(listacuadrados)"
   ]
  },
  {
   "cell_type": "markdown",
   "metadata": {},
   "source": [
    "### (Extra puntos 5.) \n",
    "\n",
    "Conteste los tres puntos para obtener la totalidad de los puntos.\n",
    "*Mencione al menos 3 palabras reservadas para el lenguaje de programación de Python.\n",
    "*Describa la diferencia principal entre las listas y las tuplas en Python.\n",
    "*Describa para que sirve el condicional ELIF.\n"
   ]
  }
 ],
 "metadata": {
  "kernelspec": {
   "display_name": "Python 3",
   "language": "python",
   "name": "python3"
  },
  "language_info": {
   "codemirror_mode": {
    "name": "ipython",
    "version": 3
   },
   "file_extension": ".py",
   "mimetype": "text/x-python",
   "name": "python",
   "nbconvert_exporter": "python",
   "pygments_lexer": "ipython3",
   "version": "3.7.4"
  }
 },
 "nbformat": 4,
 "nbformat_minor": 2
}
