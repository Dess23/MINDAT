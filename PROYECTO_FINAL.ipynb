{
 "cells": [
  {
   "cell_type": "markdown",
   "metadata": {
    "scrolled": true
   },
   "source": [
    "# CINE EN 2018\n",
    "1884093 García Rosas Tania Dessiré\n",
    "\n",
    "\n",
    "&nbsp;\n",
    "1724741 Valero Fuentes Alejandra Maricela"
   ]
  },
  {
   "cell_type": "markdown",
   "metadata": {},
   "source": [
    "### PREGUNTAS DE INTERÉS\n",
    "* ¿Cuál será la cantidad de películas que se estrenarán en el 2018?\n",
    "* ¿De qué género son las películas que tienen las películas con mayor rating?    "
   ]
  },
  {
   "cell_type": "markdown",
   "metadata": {},
   "source": [
    "### Justificación del uso de datos.\n",
    "* ¿Cuáles fueron las características que les llamó la atención de los datos. Qué les hizo querer trabajar con ellos? Al buscar la base de datos, queríamos que tuviera información necesaria, variables tanto cualitativas como cuantitativas para hacer las valuaciones pertinentes en cada caso como lo hemos visto en clase, además buscamos un tema de interés y  actualmente a todo mundo le gusta ver películas.\n",
    "* ¿Qué beneficio encuentran de trabajar con estos datos? Es una información muy detalla y la base de datos es amplia. Gracias a esto nuestras predicciones y resolución de nuestras preguntas de interés pueden ser más acertadas."
   ]
  },
  {
   "cell_type": "code",
   "execution_count": 26,
   "metadata": {
    "scrolled": true
   },
   "outputs": [
    {
     "data": {
      "text/html": [
       "<div>\n",
       "<style scoped>\n",
       "    .dataframe tbody tr th:only-of-type {\n",
       "        vertical-align: middle;\n",
       "    }\n",
       "\n",
       "    .dataframe tbody tr th {\n",
       "        vertical-align: top;\n",
       "    }\n",
       "\n",
       "    .dataframe thead th {\n",
       "        text-align: right;\n",
       "    }\n",
       "</style>\n",
       "<table border=\"1\" class=\"dataframe\">\n",
       "  <thead>\n",
       "    <tr style=\"text-align: right;\">\n",
       "      <th></th>\n",
       "      <th>filmtv_id</th>\n",
       "      <th>title</th>\n",
       "      <th>year</th>\n",
       "      <th>genre</th>\n",
       "      <th>duration</th>\n",
       "      <th>country</th>\n",
       "      <th>director</th>\n",
       "      <th>actors</th>\n",
       "      <th>avg_vote</th>\n",
       "      <th>votes</th>\n",
       "      <th>description</th>\n",
       "      <th>notes</th>\n",
       "    </tr>\n",
       "  </thead>\n",
       "  <tbody>\n",
       "    <tr>\n",
       "      <td>0</td>\n",
       "      <td>46666</td>\n",
       "      <td>Hot Water</td>\n",
       "      <td>1924.0</td>\n",
       "      <td>Comedy</td>\n",
       "      <td>59</td>\n",
       "      <td>United States</td>\n",
       "      <td>Fred C. Newmeyer, Sam Taylor</td>\n",
       "      <td>Harold Lloyd, Jobyna Ralston, Josephine Crowel...</td>\n",
       "      <td>10.0</td>\n",
       "      <td>1</td>\n",
       "      <td>NaN</td>\n",
       "      <td>NaN</td>\n",
       "    </tr>\n",
       "    <tr>\n",
       "      <td>1</td>\n",
       "      <td>13569</td>\n",
       "      <td>Gabriel Over the White House</td>\n",
       "      <td>1933.0</td>\n",
       "      <td>Drama</td>\n",
       "      <td>87</td>\n",
       "      <td>United States</td>\n",
       "      <td>Gregory La Cava</td>\n",
       "      <td>Walter Huston, Karen Morley, Franchot Tone, Ar...</td>\n",
       "      <td>10.0</td>\n",
       "      <td>1</td>\n",
       "      <td>NaN</td>\n",
       "      <td>NaN</td>\n",
       "    </tr>\n",
       "    <tr>\n",
       "      <td>2</td>\n",
       "      <td>31476</td>\n",
       "      <td>Zuiderzee</td>\n",
       "      <td>1934.0</td>\n",
       "      <td>Documentary</td>\n",
       "      <td>54</td>\n",
       "      <td>Holland</td>\n",
       "      <td>Joris Ivens</td>\n",
       "      <td>NaN</td>\n",
       "      <td>10.0</td>\n",
       "      <td>1</td>\n",
       "      <td>NaN</td>\n",
       "      <td>NaN</td>\n",
       "    </tr>\n",
       "    <tr>\n",
       "      <td>3</td>\n",
       "      <td>31243</td>\n",
       "      <td>Intermezzo</td>\n",
       "      <td>1936.0</td>\n",
       "      <td>Drama</td>\n",
       "      <td>93</td>\n",
       "      <td>Sweden</td>\n",
       "      <td>Gustaf Molander</td>\n",
       "      <td>Gösta Ekman, Inga Tidblad, Ingrid Bergman, Bul...</td>\n",
       "      <td>10.0</td>\n",
       "      <td>1</td>\n",
       "      <td>NaN</td>\n",
       "      <td>NaN</td>\n",
       "    </tr>\n",
       "    <tr>\n",
       "      <td>4</td>\n",
       "      <td>76646</td>\n",
       "      <td>Fire Over England</td>\n",
       "      <td>1937.0</td>\n",
       "      <td>Adventure</td>\n",
       "      <td>92</td>\n",
       "      <td>Great Britain</td>\n",
       "      <td>William K. Howard</td>\n",
       "      <td>Flora Robson, Raymond Massey, Leslie Banks, La...</td>\n",
       "      <td>10.0</td>\n",
       "      <td>1</td>\n",
       "      <td>Queen Elizabeth I is on the throne of England....</td>\n",
       "      <td>NaN</td>\n",
       "    </tr>\n",
       "  </tbody>\n",
       "</table>\n",
       "</div>"
      ],
      "text/plain": [
       "   filmtv_id                         title    year        genre  duration  \\\n",
       "0      46666                     Hot Water  1924.0       Comedy        59   \n",
       "1      13569  Gabriel Over the White House  1933.0        Drama        87   \n",
       "2      31476                     Zuiderzee  1934.0  Documentary        54   \n",
       "3      31243                    Intermezzo  1936.0        Drama        93   \n",
       "4      76646             Fire Over England  1937.0    Adventure        92   \n",
       "\n",
       "         country                      director  \\\n",
       "0  United States  Fred C. Newmeyer, Sam Taylor   \n",
       "1  United States               Gregory La Cava   \n",
       "2        Holland                   Joris Ivens   \n",
       "3         Sweden               Gustaf Molander   \n",
       "4  Great Britain             William K. Howard   \n",
       "\n",
       "                                              actors  avg_vote  votes  \\\n",
       "0  Harold Lloyd, Jobyna Ralston, Josephine Crowel...      10.0      1   \n",
       "1  Walter Huston, Karen Morley, Franchot Tone, Ar...      10.0      1   \n",
       "2                                                NaN      10.0      1   \n",
       "3  Gösta Ekman, Inga Tidblad, Ingrid Bergman, Bul...      10.0      1   \n",
       "4  Flora Robson, Raymond Massey, Leslie Banks, La...      10.0      1   \n",
       "\n",
       "                                         description notes  \n",
       "0                                                NaN   NaN  \n",
       "1                                                NaN   NaN  \n",
       "2                                                NaN   NaN  \n",
       "3                                                NaN   NaN  \n",
       "4  Queen Elizabeth I is on the throne of England....   NaN  "
      ]
     },
     "execution_count": 26,
     "metadata": {},
     "output_type": "execute_result"
    }
   ],
   "source": [
    "import pandas as pd\n",
    "import numpy as np\n",
    "import json\n",
    "import matplotlib as plt\n",
    "import seaborn as sns\n",
    "import matplotlib.pyplot as plt\n",
    "from sklearn.linear_model import LinearRegression\n",
    "from sklearn import datasets, linear_model\n",
    "%matplotlib inline\n",
    "database = pd.read_csv(\"C:/Users/USUARIO/Documents/GitHub/MINERIA_DE_DATOS/filmsdatabase.csv\")\n",
    "database.head(5)"
   ]
  },
  {
   "cell_type": "code",
   "execution_count": 2,
   "metadata": {
    "scrolled": true
   },
   "outputs": [
    {
     "data": {
      "text/plain": [
       "(52845, 12)"
      ]
     },
     "execution_count": 2,
     "metadata": {},
     "output_type": "execute_result"
    }
   ],
   "source": [
    "database.shape"
   ]
  },
  {
   "cell_type": "code",
   "execution_count": 3,
   "metadata": {
    "scrolled": true
   },
   "outputs": [
    {
     "data": {
      "text/plain": [
       "Index(['filmtv_id', 'title', 'year', 'genre', 'duration', 'country',\n",
       "       'director', 'actors', 'avg_vote', 'votes', 'description', 'notes'],\n",
       "      dtype='object')"
      ]
     },
     "execution_count": 3,
     "metadata": {},
     "output_type": "execute_result"
    }
   ],
   "source": [
    "database.columns"
   ]
  },
  {
   "cell_type": "code",
   "execution_count": 4,
   "metadata": {
    "scrolled": false
   },
   "outputs": [
    {
     "data": {
      "text/plain": [
       "filmtv_id        int64\n",
       "title           object\n",
       "year           float64\n",
       "genre           object\n",
       "duration         int64\n",
       "country         object\n",
       "director        object\n",
       "actors          object\n",
       "avg_vote       float64\n",
       "votes            int64\n",
       "description     object\n",
       "notes           object\n",
       "dtype: object"
      ]
     },
     "execution_count": 4,
     "metadata": {},
     "output_type": "execute_result"
    }
   ],
   "source": [
    "database.dtypes"
   ]
  },
  {
   "cell_type": "markdown",
   "metadata": {},
   "source": [
    "### DESCRIPCION DE LA BASE DE DATOS\n",
    "Se tiene una base de datos en la que son clasificadas 52845 películas.\n",
    "\n",
    "\n",
    "&nbsp;\n",
    "Se clasifican de manera cualitativa por género, país, descripción, notas, quien la dirigió, los protagonistas.\n",
    "Por otra parte, de manera cuantitativa se comtempla la duración, el año, los votos y el promedio de evaluación.\n",
    "Estamos evaluando 10 variables para cada pelicula.\n",
    "\n",
    "\n",
    "&nbsp;\n",
    "Entonces, tenemos que nuestra matriz de datos es de 52845x12.\n"
   ]
  },
  {
   "cell_type": "code",
   "execution_count": 27,
   "metadata": {
    "scrolled": false
   },
   "outputs": [
    {
     "data": {
      "text/html": [
       "<div>\n",
       "<style scoped>\n",
       "    .dataframe tbody tr th:only-of-type {\n",
       "        vertical-align: middle;\n",
       "    }\n",
       "\n",
       "    .dataframe tbody tr th {\n",
       "        vertical-align: top;\n",
       "    }\n",
       "\n",
       "    .dataframe thead th {\n",
       "        text-align: right;\n",
       "    }\n",
       "</style>\n",
       "<table border=\"1\" class=\"dataframe\">\n",
       "  <thead>\n",
       "    <tr style=\"text-align: right;\">\n",
       "      <th></th>\n",
       "      <th>title</th>\n",
       "      <th>year</th>\n",
       "      <th>genre</th>\n",
       "      <th>duration</th>\n",
       "      <th>country</th>\n",
       "      <th>avg_vote</th>\n",
       "    </tr>\n",
       "  </thead>\n",
       "  <tbody>\n",
       "    <tr>\n",
       "      <td>0</td>\n",
       "      <td>Hot Water</td>\n",
       "      <td>1924.0</td>\n",
       "      <td>Comedy</td>\n",
       "      <td>59</td>\n",
       "      <td>United States</td>\n",
       "      <td>10.0</td>\n",
       "    </tr>\n",
       "    <tr>\n",
       "      <td>1</td>\n",
       "      <td>Gabriel Over the White House</td>\n",
       "      <td>1933.0</td>\n",
       "      <td>Drama</td>\n",
       "      <td>87</td>\n",
       "      <td>United States</td>\n",
       "      <td>10.0</td>\n",
       "    </tr>\n",
       "    <tr>\n",
       "      <td>2</td>\n",
       "      <td>Zuiderzee</td>\n",
       "      <td>1934.0</td>\n",
       "      <td>Documentary</td>\n",
       "      <td>54</td>\n",
       "      <td>Holland</td>\n",
       "      <td>10.0</td>\n",
       "    </tr>\n",
       "    <tr>\n",
       "      <td>3</td>\n",
       "      <td>Intermezzo</td>\n",
       "      <td>1936.0</td>\n",
       "      <td>Drama</td>\n",
       "      <td>93</td>\n",
       "      <td>Sweden</td>\n",
       "      <td>10.0</td>\n",
       "    </tr>\n",
       "    <tr>\n",
       "      <td>4</td>\n",
       "      <td>Fire Over England</td>\n",
       "      <td>1937.0</td>\n",
       "      <td>Adventure</td>\n",
       "      <td>92</td>\n",
       "      <td>Great Britain</td>\n",
       "      <td>10.0</td>\n",
       "    </tr>\n",
       "  </tbody>\n",
       "</table>\n",
       "</div>"
      ],
      "text/plain": [
       "                          title    year        genre  duration        country  \\\n",
       "0                     Hot Water  1924.0       Comedy        59  United States   \n",
       "1  Gabriel Over the White House  1933.0        Drama        87  United States   \n",
       "2                     Zuiderzee  1934.0  Documentary        54        Holland   \n",
       "3                    Intermezzo  1936.0        Drama        93         Sweden   \n",
       "4             Fire Over England  1937.0    Adventure        92  Great Britain   \n",
       "\n",
       "   avg_vote  \n",
       "0      10.0  \n",
       "1      10.0  \n",
       "2      10.0  \n",
       "3      10.0  \n",
       "4      10.0  "
      ]
     },
     "execution_count": 27,
     "metadata": {},
     "output_type": "execute_result"
    }
   ],
   "source": [
    "data=database.drop(['filmtv_id','votes','notes','description','director','actors'],axis=1)\n",
    "data.head(5)"
   ]
  },
  {
   "cell_type": "code",
   "execution_count": 6,
   "metadata": {
    "scrolled": false
   },
   "outputs": [
    {
     "data": {
      "text/plain": [
       "title         0\n",
       "year         12\n",
       "genre       202\n",
       "duration      0\n",
       "country      49\n",
       "avg_vote      0\n",
       "dtype: int64"
      ]
     },
     "execution_count": 6,
     "metadata": {},
     "output_type": "execute_result"
    }
   ],
   "source": [
    "data.isnull().sum()"
   ]
  },
  {
   "cell_type": "code",
   "execution_count": 28,
   "metadata": {
    "scrolled": true
   },
   "outputs": [
    {
     "data": {
      "text/html": [
       "<div>\n",
       "<style scoped>\n",
       "    .dataframe tbody tr th:only-of-type {\n",
       "        vertical-align: middle;\n",
       "    }\n",
       "\n",
       "    .dataframe tbody tr th {\n",
       "        vertical-align: top;\n",
       "    }\n",
       "\n",
       "    .dataframe thead th {\n",
       "        text-align: right;\n",
       "    }\n",
       "</style>\n",
       "<table border=\"1\" class=\"dataframe\">\n",
       "  <thead>\n",
       "    <tr style=\"text-align: right;\">\n",
       "      <th></th>\n",
       "      <th>title</th>\n",
       "      <th>year</th>\n",
       "      <th>genre</th>\n",
       "      <th>duration</th>\n",
       "      <th>country</th>\n",
       "      <th>avg_vote</th>\n",
       "    </tr>\n",
       "  </thead>\n",
       "  <tbody>\n",
       "    <tr>\n",
       "      <td>0</td>\n",
       "      <td>Hot Water</td>\n",
       "      <td>1924.0</td>\n",
       "      <td>Comedy</td>\n",
       "      <td>59</td>\n",
       "      <td>United States</td>\n",
       "      <td>10.0</td>\n",
       "    </tr>\n",
       "    <tr>\n",
       "      <td>1</td>\n",
       "      <td>Gabriel Over the White House</td>\n",
       "      <td>1933.0</td>\n",
       "      <td>Drama</td>\n",
       "      <td>87</td>\n",
       "      <td>United States</td>\n",
       "      <td>10.0</td>\n",
       "    </tr>\n",
       "    <tr>\n",
       "      <td>2</td>\n",
       "      <td>Zuiderzee</td>\n",
       "      <td>1934.0</td>\n",
       "      <td>Documentary</td>\n",
       "      <td>54</td>\n",
       "      <td>Holland</td>\n",
       "      <td>10.0</td>\n",
       "    </tr>\n",
       "    <tr>\n",
       "      <td>3</td>\n",
       "      <td>Intermezzo</td>\n",
       "      <td>1936.0</td>\n",
       "      <td>Drama</td>\n",
       "      <td>93</td>\n",
       "      <td>Sweden</td>\n",
       "      <td>10.0</td>\n",
       "    </tr>\n",
       "    <tr>\n",
       "      <td>4</td>\n",
       "      <td>Fire Over England</td>\n",
       "      <td>1937.0</td>\n",
       "      <td>Adventure</td>\n",
       "      <td>92</td>\n",
       "      <td>Great Britain</td>\n",
       "      <td>10.0</td>\n",
       "    </tr>\n",
       "  </tbody>\n",
       "</table>\n",
       "</div>"
      ],
      "text/plain": [
       "                          title    year        genre  duration        country  \\\n",
       "0                     Hot Water  1924.0       Comedy        59  United States   \n",
       "1  Gabriel Over the White House  1933.0        Drama        87  United States   \n",
       "2                     Zuiderzee  1934.0  Documentary        54        Holland   \n",
       "3                    Intermezzo  1936.0        Drama        93         Sweden   \n",
       "4             Fire Over England  1937.0    Adventure        92  Great Britain   \n",
       "\n",
       "   avg_vote  \n",
       "0      10.0  \n",
       "1      10.0  \n",
       "2      10.0  \n",
       "3      10.0  \n",
       "4      10.0  "
      ]
     },
     "execution_count": 28,
     "metadata": {},
     "output_type": "execute_result"
    }
   ],
   "source": [
    "films=data.dropna()\n",
    "films.head(5)"
   ]
  },
  {
   "cell_type": "markdown",
   "metadata": {},
   "source": [
    "### MANIPULACIÓN DE LA BASE DE DATOS\n",
    "Lo primero que realizamos es la eliminación de las columnas que no vamos a ocupar.\n",
    "\n",
    "&nbsp;\n",
    "Para esta base de datos eliminamos seis columnas. Empezamos con la columna del id, se elimina ya que esta no tiene importacia al igual que la columna de notas. La columna de votos es innecesaria pues solo cuenta cuantas personas votaron y lo que realmente nos interesa es el promedio de dicha votación y también eliminamos la columna de descripción ya que cuenta con muchos valores nulos y si la tomamos en cuenta nuestra base de datos quedaría reducida a más del 50%. Por último se considera eliminar las columnas de actores y director debido a que no tienen mucha influencia esas variables, realmente siempre dejará de haber unos y llegarán otros, pues cada uno tuvo su momento.\n",
    "\n",
    "&nbsp;\n",
    "Luego eliminamos los datos nulos restantes. Al final quedan 52832 datos con los cuales trabajaremos.\n",
    "    "
   ]
  },
  {
   "cell_type": "code",
   "execution_count": 8,
   "metadata": {},
   "outputs": [
    {
     "data": {
      "text/plain": [
       "1909.0"
      ]
     },
     "execution_count": 8,
     "metadata": {},
     "output_type": "execute_result"
    }
   ],
   "source": [
    "films['year'].min()"
   ]
  },
  {
   "cell_type": "code",
   "execution_count": 9,
   "metadata": {},
   "outputs": [
    {
     "data": {
      "text/plain": [
       "2018.0"
      ]
     },
     "execution_count": 9,
     "metadata": {},
     "output_type": "execute_result"
    }
   ],
   "source": [
    "films['year'].max()"
   ]
  },
  {
   "cell_type": "code",
   "execution_count": 10,
   "metadata": {},
   "outputs": [
    {
     "data": {
      "text/plain": [
       "count    52585.000000\n",
       "mean        98.230902\n",
       "std         24.991813\n",
       "min         40.000000\n",
       "25%         89.000000\n",
       "50%         95.000000\n",
       "75%        105.000000\n",
       "max        924.000000\n",
       "Name: duration, dtype: float64"
      ]
     },
     "execution_count": 10,
     "metadata": {},
     "output_type": "execute_result"
    }
   ],
   "source": [
    "films['duration'].describe()"
   ]
  },
  {
   "cell_type": "markdown",
   "metadata": {},
   "source": [
    "En esta descripción de valores cuantitativos podemos notar que de 49607 películas evaluadas, tenemos un rango que va de 40 minutos a 924 minutos, con un promedio de 95 minutos. Con esto concluimos que en promedio las películas duran hora y media."
   ]
  },
  {
   "cell_type": "code",
   "execution_count": 11,
   "metadata": {
    "scrolled": false
   },
   "outputs": [
    {
     "data": {
      "text/plain": [
       "count    52585.000000\n",
       "mean         5.845389\n",
       "std          1.522194\n",
       "min          0.500000\n",
       "25%          5.000000\n",
       "50%          6.000000\n",
       "75%          7.000000\n",
       "max         10.000000\n",
       "Name: avg_vote, dtype: float64"
      ]
     },
     "execution_count": 11,
     "metadata": {},
     "output_type": "execute_result"
    }
   ],
   "source": [
    "films['avg_vote'].describe()"
   ]
  },
  {
   "cell_type": "markdown",
   "metadata": {},
   "source": [
    "El promedio de votos obtenidos es de 6 sobre 10. Las votaciones cuentan con un máximo de 10 puntos, lo cual es bueno, ya que no llegamos a tocar el 0 en una calificación mínima."
   ]
  },
  {
   "cell_type": "code",
   "execution_count": 12,
   "metadata": {},
   "outputs": [
    {
     "data": {
      "text/html": [
       "<div>\n",
       "<style scoped>\n",
       "    .dataframe tbody tr th:only-of-type {\n",
       "        vertical-align: middle;\n",
       "    }\n",
       "\n",
       "    .dataframe tbody tr th {\n",
       "        vertical-align: top;\n",
       "    }\n",
       "\n",
       "    .dataframe thead th {\n",
       "        text-align: right;\n",
       "    }\n",
       "</style>\n",
       "<table border=\"1\" class=\"dataframe\">\n",
       "  <thead>\n",
       "    <tr style=\"text-align: right;\">\n",
       "      <th></th>\n",
       "      <th>year</th>\n",
       "      <th>duration</th>\n",
       "      <th>avg_vote</th>\n",
       "    </tr>\n",
       "  </thead>\n",
       "  <tbody>\n",
       "    <tr>\n",
       "      <td>year</td>\n",
       "      <td>1.000000</td>\n",
       "      <td>0.054344</td>\n",
       "      <td>-0.158888</td>\n",
       "    </tr>\n",
       "    <tr>\n",
       "      <td>duration</td>\n",
       "      <td>0.054344</td>\n",
       "      <td>1.000000</td>\n",
       "      <td>0.108425</td>\n",
       "    </tr>\n",
       "    <tr>\n",
       "      <td>avg_vote</td>\n",
       "      <td>-0.158888</td>\n",
       "      <td>0.108425</td>\n",
       "      <td>1.000000</td>\n",
       "    </tr>\n",
       "  </tbody>\n",
       "</table>\n",
       "</div>"
      ],
      "text/plain": [
       "              year  duration  avg_vote\n",
       "year      1.000000  0.054344 -0.158888\n",
       "duration  0.054344  1.000000  0.108425\n",
       "avg_vote -0.158888  0.108425  1.000000"
      ]
     },
     "execution_count": 12,
     "metadata": {},
     "output_type": "execute_result"
    }
   ],
   "source": [
    "films.corr()"
   ]
  },
  {
   "cell_type": "code",
   "execution_count": 13,
   "metadata": {
    "scrolled": true
   },
   "outputs": [
    {
     "data": {
      "text/html": [
       "<div>\n",
       "<style scoped>\n",
       "    .dataframe tbody tr th:only-of-type {\n",
       "        vertical-align: middle;\n",
       "    }\n",
       "\n",
       "    .dataframe tbody tr th {\n",
       "        vertical-align: top;\n",
       "    }\n",
       "\n",
       "    .dataframe thead th {\n",
       "        text-align: right;\n",
       "    }\n",
       "</style>\n",
       "<table border=\"1\" class=\"dataframe\">\n",
       "  <thead>\n",
       "    <tr style=\"text-align: right;\">\n",
       "      <th></th>\n",
       "      <th>year</th>\n",
       "      <th>duration</th>\n",
       "      <th>avg_vote</th>\n",
       "    </tr>\n",
       "  </thead>\n",
       "  <tbody>\n",
       "    <tr>\n",
       "      <td>year</td>\n",
       "      <td>521.902883</td>\n",
       "      <td>31.027490</td>\n",
       "      <td>-5.525299</td>\n",
       "    </tr>\n",
       "    <tr>\n",
       "      <td>duration</td>\n",
       "      <td>31.027490</td>\n",
       "      <td>624.590719</td>\n",
       "      <td>4.124732</td>\n",
       "    </tr>\n",
       "    <tr>\n",
       "      <td>avg_vote</td>\n",
       "      <td>-5.525299</td>\n",
       "      <td>4.124732</td>\n",
       "      <td>2.317074</td>\n",
       "    </tr>\n",
       "  </tbody>\n",
       "</table>\n",
       "</div>"
      ],
      "text/plain": [
       "                year    duration  avg_vote\n",
       "year      521.902883   31.027490 -5.525299\n",
       "duration   31.027490  624.590719  4.124732\n",
       "avg_vote   -5.525299    4.124732  2.317074"
      ]
     },
     "execution_count": 13,
     "metadata": {},
     "output_type": "execute_result"
    }
   ],
   "source": [
    "films.cov()"
   ]
  },
  {
   "cell_type": "markdown",
   "metadata": {},
   "source": [
    "### ESTADISTICAS\n",
    "A decir verdad no existe una relación entre el puntaje y la duración. De manera que si la película llegará a durr minutos más o menos no afectaría de manera significativa su valoración. "
   ]
  },
  {
   "cell_type": "markdown",
   "metadata": {},
   "source": [
    "# Gráficos"
   ]
  },
  {
   "cell_type": "code",
   "execution_count": 15,
   "metadata": {},
   "outputs": [],
   "source": [
    "from matplotlib import pylab, mlab, pyplot\n",
    "from numpy import *\n",
    "from pylab import *\n",
    "from IPython.display import display\n",
    "from IPython.core.pylabtools import figsize"
   ]
  },
  {
   "cell_type": "code",
   "execution_count": 16,
   "metadata": {
    "scrolled": true
   },
   "outputs": [
    {
     "data": {
      "text/plain": [
       "<matplotlib.axes._subplots.AxesSubplot at 0x239b11d9b88>"
      ]
     },
     "execution_count": 16,
     "metadata": {},
     "output_type": "execute_result"
    },
    {
     "data": {
      "image/png": "[encoded data removed]",
      "text/plain": [
       "<Figure size 432x288 with 1 Axes>"
      ]
     },
     "metadata": {
      "needs_background": "light"
     },
     "output_type": "display_data"
    }
   ],
   "source": [
    "sns.distplot(films['avg_vote'],bins=10,kde=False,color='DodgerBlue')"
   ]
  },
  {
   "cell_type": "markdown",
   "metadata": {},
   "source": [
    "Aquí se presenta una descripción gráfica de el promedio de votos. La mayoría de las películas tienen un promedio de votos entre 5 y 6, con lo que confirmamos lo que se arrojo en la descripción analítica."
   ]
  },
  {
   "cell_type": "markdown",
   "metadata": {},
   "source": [
    "#### Gráficos por género"
   ]
  },
  {
   "cell_type": "code",
   "execution_count": 17,
   "metadata": {
    "scrolled": true
   },
   "outputs": [
    {
     "data": {
      "text/plain": [
       "Drama          15861\n",
       "Comedy         11600\n",
       "Thriller        4868\n",
       "Documentary     3153\n",
       "Action          2868\n",
       "Name: genre, dtype: int64"
      ]
     },
     "execution_count": 17,
     "metadata": {},
     "output_type": "execute_result"
    }
   ],
   "source": [
    "films['genre'].value_counts().head()"
   ]
  },
  {
   "cell_type": "code",
   "execution_count": 18,
   "metadata": {
    "scrolled": true
   },
   "outputs": [
    {
     "data": {
      "text/plain": [
       "<matplotlib.axes._subplots.AxesSubplot at 0x239b152c708>"
      ]
     },
     "execution_count": 18,
     "metadata": {},
     "output_type": "execute_result"
    },
    {
     "data": {
      "image/png": "[encoded data removed]",
      "text/plain": [
       "<Figure size 432x288 with 1 Axes>"
      ]
     },
     "metadata": {
      "needs_background": "light"
     },
     "output_type": "display_data"
    }
   ],
   "source": [
    "films['genre'].value_counts().plot.bar()"
   ]
  },
  {
   "cell_type": "code",
   "execution_count": 19,
   "metadata": {
    "scrolled": false
   },
   "outputs": [
    {
     "data": {
      "image/png": "[encoded data removed]",
      "text/plain": [
       "<Figure size 1944x360 with 1 Axes>"
      ]
     },
     "metadata": {
      "needs_background": "light"
     },
     "output_type": "display_data"
    }
   ],
   "source": [
    "plt.figure(figsize(27,5))\n",
    "fdb= films[films.genre.isin(films.genre.value_counts().index)]\n",
    "sns.boxplot(x='genre', y='avg_vote', data=fdb)\n",
    "plt.title('Boxplot de promedio de votos por género')\n",
    "plt.show()"
   ]
  },
  {
   "cell_type": "code",
   "execution_count": 20,
   "metadata": {},
   "outputs": [
    {
     "data": {
      "text/plain": [
       "genre\n",
       "Noir           6.979927\n",
       "Mélo           6.658772\n",
       "Sperimental    6.582243\n",
       "Gangster       6.557377\n",
       "Documentary    6.554139\n",
       "Name: avg_vote, dtype: float64"
      ]
     },
     "execution_count": 20,
     "metadata": {},
     "output_type": "execute_result"
    }
   ],
   "source": [
    "gv=films.groupby('genre').mean().avg_vote.sort_values(ascending=False)\n",
    "gv.head()"
   ]
  },
  {
   "cell_type": "markdown",
   "metadata": {},
   "source": [
    "Podemos ver en la proyección del gráfico de barras (gráfico 1) la cantidad de películas que se han realizado por género. Nuestro top diez de producciones por género son de Drama (15861), Comedia(11600), Suspenso(4868), Documentales(3153), Acción(2868), Horror(2522), Aventura(2178), Fantasía(1597), Vaqueros(1351) y Animación(1300). Apreciamos que los primeros géneros con mayor producción difieren mucho entre sí. Debajo de este top diez vemos que la producción se distribuye más uniformamente con los demás géneros.\n",
    "\n",
    "&nbsp;\n",
    "En base al BoxPlot (gráfico 2) nos damos cuenta de la relación del promedio de votos por género. Vemos que son pocos los géneros en donde los valores no estan sesgados, es decir, donde nuestra mediana, media y moda coinciden. También en casi todos presentan valores atipicos. Los géneros que se notan más estabilizados son Historia, Deportes y Mitología.\n",
    "\n",
    "\n",
    "A simple vista, se aprecia que los géneros mejor evaluados son Noir, Mélo, Experimental, Gangster, Documentales, Grotesco, Películas cortas, Drama, Guerra y Biográficas. \n",
    "\n",
    "&nbsp;\n",
    "En base a lo anterior, llegamos a la conclusión de que no por producirse más un género se va a tener mejor puntaje. Se producen más debido a la demanda que tiene el género, sin embargo, eso no nos asegura que sean buenas o que gusten. Los géneres que tienen mayor relación entre promedio de votos y cantidad de películas son los Documentales, las películas de Drama, de Animación, Biográficas y de Crimen."
   ]
  },
  {
   "cell_type": "markdown",
   "metadata": {},
   "source": [
    "## Predicción\n",
    "\n",
    "Creamos una tabla con los años y con la cantidad de películas para hacer nuestra estimación "
   ]
  },
  {
   "cell_type": "code",
   "execution_count": 33,
   "metadata": {
    "scrolled": true
   },
   "outputs": [
    {
     "data": {
      "text/html": [
       "<div>\n",
       "<style scoped>\n",
       "    .dataframe tbody tr th:only-of-type {\n",
       "        vertical-align: middle;\n",
       "    }\n",
       "\n",
       "    .dataframe tbody tr th {\n",
       "        vertical-align: top;\n",
       "    }\n",
       "\n",
       "    .dataframe thead th {\n",
       "        text-align: right;\n",
       "    }\n",
       "</style>\n",
       "<table border=\"1\" class=\"dataframe\">\n",
       "  <thead>\n",
       "    <tr style=\"text-align: right;\">\n",
       "      <th></th>\n",
       "      <th>total</th>\n",
       "      <th>year</th>\n",
       "    </tr>\n",
       "    <tr>\n",
       "      <th>year</th>\n",
       "      <th></th>\n",
       "      <th></th>\n",
       "    </tr>\n",
       "  </thead>\n",
       "  <tbody>\n",
       "    <tr>\n",
       "      <td>2013.0</td>\n",
       "      <td>1611</td>\n",
       "      <td>2013</td>\n",
       "    </tr>\n",
       "    <tr>\n",
       "      <td>2014.0</td>\n",
       "      <td>1596</td>\n",
       "      <td>2014</td>\n",
       "    </tr>\n",
       "    <tr>\n",
       "      <td>2015.0</td>\n",
       "      <td>1617</td>\n",
       "      <td>2015</td>\n",
       "    </tr>\n",
       "    <tr>\n",
       "      <td>2016.0</td>\n",
       "      <td>1645</td>\n",
       "      <td>2016</td>\n",
       "    </tr>\n",
       "    <tr>\n",
       "      <td>2017.0</td>\n",
       "      <td>1564</td>\n",
       "      <td>2017</td>\n",
       "    </tr>\n",
       "  </tbody>\n",
       "</table>\n",
       "</div>"
      ],
      "text/plain": [
       "        total  year\n",
       "year               \n",
       "2013.0   1611  2013\n",
       "2014.0   1596  2014\n",
       "2015.0   1617  2015\n",
       "2016.0   1645  2016\n",
       "2017.0   1564  2017"
      ]
     },
     "execution_count": 33,
     "metadata": {},
     "output_type": "execute_result"
    }
   ],
   "source": [
    "films.year.astype(\"int\")\n",
    "\n",
    "cant=films.groupby(['year']).count()\n",
    "\n",
    "films= films.drop(films[films['year']==2018].index)\n",
    "\n",
    "predict=films.groupby(['year']).count()\n",
    "predict=predict.drop(['genre','duration','country','avg_vote'],axis=1)\n",
    "\n",
    "predict['year']=range(1909,2018,1)\n",
    "predict=predict.rename(columns={'title':'total'})\n",
    "predict.tail()"
   ]
  },
  {
   "cell_type": "code",
   "execution_count": 22,
   "metadata": {
    "scrolled": true
   },
   "outputs": [
    {
     "data": {
      "text/html": [
       "<div>\n",
       "<style scoped>\n",
       "    .dataframe tbody tr th:only-of-type {\n",
       "        vertical-align: middle;\n",
       "    }\n",
       "\n",
       "    .dataframe tbody tr th {\n",
       "        vertical-align: top;\n",
       "    }\n",
       "\n",
       "    .dataframe thead th {\n",
       "        text-align: right;\n",
       "    }\n",
       "</style>\n",
       "<table border=\"1\" class=\"dataframe\">\n",
       "  <thead>\n",
       "    <tr style=\"text-align: right;\">\n",
       "      <th></th>\n",
       "      <th>total</th>\n",
       "      <th>year</th>\n",
       "    </tr>\n",
       "  </thead>\n",
       "  <tbody>\n",
       "    <tr>\n",
       "      <td>total</td>\n",
       "      <td>1.000000</td>\n",
       "      <td>0.924803</td>\n",
       "    </tr>\n",
       "    <tr>\n",
       "      <td>year</td>\n",
       "      <td>0.924803</td>\n",
       "      <td>1.000000</td>\n",
       "    </tr>\n",
       "  </tbody>\n",
       "</table>\n",
       "</div>"
      ],
      "text/plain": [
       "          total      year\n",
       "total  1.000000  0.924803\n",
       "year   0.924803  1.000000"
      ]
     },
     "execution_count": 22,
     "metadata": {},
     "output_type": "execute_result"
    }
   ],
   "source": [
    "predict.corr()"
   ]
  },
  {
   "cell_type": "markdown",
   "metadata": {},
   "source": [
    "#### Gráficos de predicción"
   ]
  },
  {
   "cell_type": "code",
   "execution_count": 29,
   "metadata": {},
   "outputs": [
    {
     "data": {
      "text/plain": [
       "<matplotlib.axes._subplots.AxesSubplot at 0x239b1e4f488>"
      ]
     },
     "execution_count": 29,
     "metadata": {},
     "output_type": "execute_result"
    },
    {
     "data": {
      "image/png": "[encoded data removed]",
      "text/plain": [
       "<Figure size 432x288 with 1 Axes>"
      ]
     },
     "metadata": {
      "needs_background": "light"
     },
     "output_type": "display_data"
    }
   ],
   "source": [
    "predict.sample(109).plot.scatter(x='year', y='total')"
   ]
  },
  {
   "cell_type": "code",
   "execution_count": 30,
   "metadata": {},
   "outputs": [
    {
     "data": {
      "image/png": "[encoded data removed]",
      "text/plain": [
       "<Figure size 864x504 with 1 Axes>"
      ]
     },
     "metadata": {
      "needs_background": "light"
     },
     "output_type": "display_data"
    }
   ],
   "source": [
    "fig = plt.figure(figsize=(12,7))\n",
    "plt.scatter(predict['year'],predict['total'])\n",
    "plt.plot(predict['year'],predict['total'])\n",
    "plt.xlabel('year')\n",
    "plt.ylabel('total')\n",
    "plt.grid()"
   ]
  },
  {
   "cell_type": "code",
   "execution_count": 35,
   "metadata": {},
   "outputs": [],
   "source": [
    "total = predict['total'].values.reshape(-1,1)\n",
    "anio = predict['year'].values.reshape(-1,1)\n",
    "linear_regressor = LinearRegression()\n",
    "linear_regressor.fit(anio, total)\n",
    "nImages_pred = linear_regressor.predict(anio)"
   ]
  },
  {
   "cell_type": "code",
   "execution_count": 36,
   "metadata": {
    "scrolled": true
   },
   "outputs": [
    {
     "name": "stdout",
     "output_type": "stream",
     "text": [
      "$cantidad = 12.7674*anio -24592.3663$\n"
     ]
    }
   ],
   "source": [
    "#y=mx+c\n",
    "m = linear_regressor.coef_[0][0]\n",
    "c = linear_regressor.intercept_[0]\n",
    "label = r'$cantidad = %0.4f*anio %+0.4f$'%(m,c)\n",
    "print(label)"
   ]
  },
  {
   "cell_type": "code",
   "execution_count": 37,
   "metadata": {},
   "outputs": [
    {
     "name": "stdout",
     "output_type": "stream",
     "text": [
      "1172.2468999999983\n"
     ]
    }
   ],
   "source": [
    "an = 12.7674*2018 -24592.3663\n",
    "print(an)"
   ]
  },
  {
   "cell_type": "code",
   "execution_count": 38,
   "metadata": {},
   "outputs": [
    {
     "data": {
      "text/plain": [
       "12.584123788217742"
      ]
     },
     "execution_count": 38,
     "metadata": {},
     "output_type": "execute_result"
    }
   ],
   "source": [
    "error=((1341-1172.2469)/1341)*100\n",
    "error"
   ]
  },
  {
   "cell_type": "code",
   "execution_count": 45,
   "metadata": {
    "scrolled": true
   },
   "outputs": [
    {
     "data": {
      "image/png": "[encoded data removed]",
      "text/plain": [
       "<Figure size 1800x504 with 1 Axes>"
      ]
     },
     "metadata": {
      "needs_background": "light"
     },
     "output_type": "display_data"
    }
   ],
   "source": [
    "fig = plt.figure(figsize=(25,7))\n",
    "plt.scatter(predict['year'],predict['total'])\n",
    "plt.plot(predict['year'],predict['total'],label='Real')\n",
    "plt.plot(anio,nImages_pred, color='red', label=label)\n",
    "plt.xlabel('year')\n",
    "plt.ylabel('total')\n",
    "plt.legend()\n",
    "plt.grid()"
   ]
  },
  {
   "cell_type": "markdown",
   "metadata": {},
   "source": [
    "### PREGUNTAS DE INTERÉS\n",
    "* ¿Cuál será la cantidad de películas que se estrenarán en el 2018?\n",
    "\n",
    "Con un error del 12.58% tenemos estimado que se produjeron 1172 películas en el año 2018. \n",
    "\n",
    "\n",
    "* ¿De qué género son las películas que tienen las películas con mayor rating?\n",
    "\n",
    "De acuerdo a los gráficos de BoxPlot podemos determinar que las peliculas con mejor rating son las del género Noir con votos promedio de 6.9799. Pero al momento de considerar también la cantidad de películas realizadas tenemos que el género que tiene mejor rating es el de los Documentales con un promedio de votos de 6.5541. Nuestra respuesta a esta pregunta será la de Documentales debido a la proporción que se maneja con la cantidad de películas, es decir, tenemos una producción de 274 películas del género Noir y 3153 Documentales. Tomando en cuenta lo anterior, vale la pena arriesgar menos del 0.43 puntos de 10 posibles cuando tu producción que es más de 10 veces mayor y aun así maneja uno de los promedios de votos más altos.\n"
   ]
  }
 ],
 "metadata": {
  "kernelspec": {
   "display_name": "Python 3",
   "language": "python",
   "name": "python3"
  },
  "language_info": {
   "codemirror_mode": {
    "name": "ipython",
    "version": 3
   },
   "file_extension": ".py",
   "mimetype": "text/x-python",
   "name": "python",
   "nbconvert_exporter": "python",
   "pygments_lexer": "ipython3",
   "version": "3.7.4"
  }
 },
 "nbformat": 4,
 "nbformat_minor": 2
}
